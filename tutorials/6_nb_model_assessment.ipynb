{
 "cells": [
  {
   "cell_type": "markdown",
   "metadata": {
    "id": "8SMs2-e4LMG1"
   },
   "source": [
    "[![Open In Colab](https://colab.research.google.com/assets/colab-badge.svg)](https://colab.research.google.com/github/Humboldt-WI/bads/blob/master/tutorials/6_nb_model_assessment.ipynb) \n"
   ]
  },
  {
   "cell_type": "markdown",
   "metadata": {
    "id": "llvzUsvELHVa"
   },
   "source": [
    "# Chapter 6 - Prediction model evaluation \n",
    "We have learned about logistic regression and CART in the previous chapter. Equipped with this knowledge, we can move on with revisiting practices to evaluate supervised learning models. Today, we focus on the assessment of predictive accuracy. Remember that accuracy is not the only relevant dimension of model performance. Also remember that both logit and CART could also be employed for *explanatory* modeling, which would imply use of yet different evaluation criteria. Here, however, our focus is prediction. Further, we will focus on models for classification. Measuring the predictive accuracy of a regression model is straightforward and involves calculating indicators such as MSE, MAE, MAPE, and the like. Once you can assess a classification model, you will have no problems whatsoever to assess a regression model.  \n",
    "\n",
    "The outline of the tutorial is as follows:\n",
    "- Preliminaries\n",
    "- Forecast accuracy in classification\n",
    "- Data partitioning and organization"
   ]
  },
  {
   "cell_type": "markdown",
   "metadata": {
    "id": "XQ32U6O8lqaf"
   },
   "source": [
    "# Preliminaries\n",
    "As usual, it makes sense to import a set of standard libraries before moving on. "
   ]
  },
  {
   "cell_type": "code",
   "execution_count": 82,
   "metadata": {
    "id": "wYtW-__8lqag"
   },
   "outputs": [],
   "source": [
    "import numpy as np\n",
    "import matplotlib.pyplot as plt\n",
    "import pandas as pd \n",
    "# Some configuration of the plots we will create later\n",
    "%matplotlib inline  \n",
    "plt.rcParams[\"figure.figsize\"] = (12,6)"
   ]
  },
  {
   "cell_type": "markdown",
   "metadata": {
    "id": "ETTiNKcKlqal"
   },
   "source": [
    "## Data\n",
    "Also as usual, we need some data to play with. Given our focus on classification and given that we know the data quite well by now, we will continue with the **HMEQ data set**. So let's load this data set as well, whereby we make use of the prepared version from [Tutorial 4](https://github.com/Humboldt-WI/bads/blob/master/tutorials/4_nb_data_preparation.ipynb), which is readily available in our [GitHub repo](https://github.com/Humboldt-WI/bads). Just return to [Tutorial 4](https://github.com/Humboldt-WI/bads/blob/master/tutorials/4_nb_data_preparation.ipynb) if you need a refresher."
   ]
  },
  {
   "cell_type": "code",
   "execution_count": 83,
   "metadata": {
    "colab": {
     "base_uri": "https://localhost:8080/",
     "height": 216
    },
    "id": "-f_td166lqam",
    "outputId": "019654ed-5bc9-476b-c30b-57cefae531bb"
   },
   "outputs": [
    {
     "data": {
      "text/html": [
       "<div>\n",
       "<style scoped>\n",
       "    .dataframe tbody tr th:only-of-type {\n",
       "        vertical-align: middle;\n",
       "    }\n",
       "\n",
       "    .dataframe tbody tr th {\n",
       "        vertical-align: top;\n",
       "    }\n",
       "\n",
       "    .dataframe thead th {\n",
       "        text-align: right;\n",
       "    }\n",
       "</style>\n",
       "<table border=\"1\" class=\"dataframe\">\n",
       "  <thead>\n",
       "    <tr style=\"text-align: right;\">\n",
       "      <th></th>\n",
       "      <th>BAD</th>\n",
       "      <th>LOAN</th>\n",
       "      <th>MORTDUE</th>\n",
       "      <th>VALUE</th>\n",
       "      <th>YOJ</th>\n",
       "      <th>CLAGE</th>\n",
       "      <th>NINQ</th>\n",
       "      <th>CLNO</th>\n",
       "      <th>DEBTINC</th>\n",
       "      <th>DEROGzero</th>\n",
       "      <th>REASON_HomeImp</th>\n",
       "      <th>REASON_IsMissing</th>\n",
       "      <th>JOB_Office</th>\n",
       "      <th>JOB_Other</th>\n",
       "      <th>JOB_ProfExe</th>\n",
       "      <th>JOB_Sales</th>\n",
       "      <th>JOB_Self</th>\n",
       "      <th>DELINQcat_1</th>\n",
       "      <th>DELINQcat_1+</th>\n",
       "    </tr>\n",
       "    <tr>\n",
       "      <th>index</th>\n",
       "      <th></th>\n",
       "      <th></th>\n",
       "      <th></th>\n",
       "      <th></th>\n",
       "      <th></th>\n",
       "      <th></th>\n",
       "      <th></th>\n",
       "      <th></th>\n",
       "      <th></th>\n",
       "      <th></th>\n",
       "      <th></th>\n",
       "      <th></th>\n",
       "      <th></th>\n",
       "      <th></th>\n",
       "      <th></th>\n",
       "      <th></th>\n",
       "      <th></th>\n",
       "      <th></th>\n",
       "      <th></th>\n",
       "    </tr>\n",
       "  </thead>\n",
       "  <tbody>\n",
       "    <tr>\n",
       "      <th>0</th>\n",
       "      <td>True</td>\n",
       "      <td>-1.832283</td>\n",
       "      <td>-1.295882</td>\n",
       "      <td>-1.335526</td>\n",
       "      <td>0.266788</td>\n",
       "      <td>-1.075278</td>\n",
       "      <td>-0.065054</td>\n",
       "      <td>-1.297476</td>\n",
       "      <td>0.137456</td>\n",
       "      <td>True</td>\n",
       "      <td>1</td>\n",
       "      <td>0</td>\n",
       "      <td>0</td>\n",
       "      <td>1</td>\n",
       "      <td>0</td>\n",
       "      <td>0</td>\n",
       "      <td>0</td>\n",
       "      <td>0</td>\n",
       "      <td>0</td>\n",
       "    </tr>\n",
       "    <tr>\n",
       "      <th>1</th>\n",
       "      <td>True</td>\n",
       "      <td>-1.810666</td>\n",
       "      <td>-0.013474</td>\n",
       "      <td>-0.672699</td>\n",
       "      <td>-0.236615</td>\n",
       "      <td>-0.723092</td>\n",
       "      <td>-0.826792</td>\n",
       "      <td>-0.756608</td>\n",
       "      <td>0.137456</td>\n",
       "      <td>True</td>\n",
       "      <td>1</td>\n",
       "      <td>0</td>\n",
       "      <td>0</td>\n",
       "      <td>1</td>\n",
       "      <td>0</td>\n",
       "      <td>0</td>\n",
       "      <td>0</td>\n",
       "      <td>0</td>\n",
       "      <td>1</td>\n",
       "    </tr>\n",
       "    <tr>\n",
       "      <th>2</th>\n",
       "      <td>True</td>\n",
       "      <td>-1.789048</td>\n",
       "      <td>-1.654549</td>\n",
       "      <td>-1.839275</td>\n",
       "      <td>-0.668103</td>\n",
       "      <td>-0.368769</td>\n",
       "      <td>-0.065054</td>\n",
       "      <td>-1.189302</td>\n",
       "      <td>0.137456</td>\n",
       "      <td>True</td>\n",
       "      <td>1</td>\n",
       "      <td>0</td>\n",
       "      <td>0</td>\n",
       "      <td>1</td>\n",
       "      <td>0</td>\n",
       "      <td>0</td>\n",
       "      <td>0</td>\n",
       "      <td>0</td>\n",
       "      <td>0</td>\n",
       "    </tr>\n",
       "    <tr>\n",
       "      <th>3</th>\n",
       "      <td>True</td>\n",
       "      <td>-1.789048</td>\n",
       "      <td>-0.159552</td>\n",
       "      <td>-0.202559</td>\n",
       "      <td>-0.236615</td>\n",
       "      <td>-0.061033</td>\n",
       "      <td>-0.065054</td>\n",
       "      <td>-0.107566</td>\n",
       "      <td>0.137456</td>\n",
       "      <td>True</td>\n",
       "      <td>0</td>\n",
       "      <td>1</td>\n",
       "      <td>0</td>\n",
       "      <td>1</td>\n",
       "      <td>0</td>\n",
       "      <td>0</td>\n",
       "      <td>0</td>\n",
       "      <td>0</td>\n",
       "      <td>0</td>\n",
       "    </tr>\n",
       "    <tr>\n",
       "      <th>4</th>\n",
       "      <td>False</td>\n",
       "      <td>-1.767431</td>\n",
       "      <td>0.791699</td>\n",
       "      <td>0.311107</td>\n",
       "      <td>-0.811933</td>\n",
       "      <td>-1.088528</td>\n",
       "      <td>-0.826792</td>\n",
       "      <td>-0.756608</td>\n",
       "      <td>0.137456</td>\n",
       "      <td>True</td>\n",
       "      <td>1</td>\n",
       "      <td>0</td>\n",
       "      <td>1</td>\n",
       "      <td>0</td>\n",
       "      <td>0</td>\n",
       "      <td>0</td>\n",
       "      <td>0</td>\n",
       "      <td>0</td>\n",
       "      <td>0</td>\n",
       "    </tr>\n",
       "  </tbody>\n",
       "</table>\n",
       "</div>"
      ],
      "text/plain": [
       "         BAD      LOAN   MORTDUE     VALUE       YOJ     CLAGE      NINQ  \\\n",
       "index                                                                      \n",
       "0       True -1.832283 -1.295882 -1.335526  0.266788 -1.075278 -0.065054   \n",
       "1       True -1.810666 -0.013474 -0.672699 -0.236615 -0.723092 -0.826792   \n",
       "2       True -1.789048 -1.654549 -1.839275 -0.668103 -0.368769 -0.065054   \n",
       "3       True -1.789048 -0.159552 -0.202559 -0.236615 -0.061033 -0.065054   \n",
       "4      False -1.767431  0.791699  0.311107 -0.811933 -1.088528 -0.826792   \n",
       "\n",
       "           CLNO   DEBTINC  DEROGzero  REASON_HomeImp  REASON_IsMissing  \\\n",
       "index                                                                    \n",
       "0     -1.297476  0.137456       True               1                 0   \n",
       "1     -0.756608  0.137456       True               1                 0   \n",
       "2     -1.189302  0.137456       True               1                 0   \n",
       "3     -0.107566  0.137456       True               0                 1   \n",
       "4     -0.756608  0.137456       True               1                 0   \n",
       "\n",
       "       JOB_Office  JOB_Other  JOB_ProfExe  JOB_Sales  JOB_Self  DELINQcat_1  \\\n",
       "index                                                                         \n",
       "0               0          1            0          0         0            0   \n",
       "1               0          1            0          0         0            0   \n",
       "2               0          1            0          0         0            0   \n",
       "3               0          1            0          0         0            0   \n",
       "4               1          0            0          0         0            0   \n",
       "\n",
       "       DELINQcat_1+  \n",
       "index                \n",
       "0                 0  \n",
       "1                 1  \n",
       "2                 0  \n",
       "3                 0  \n",
       "4                 0  "
      ]
     },
     "execution_count": 83,
     "metadata": {},
     "output_type": "execute_result"
    }
   ],
   "source": [
    "data_url = 'https://raw.githubusercontent.com/Humboldt-WI/bads/master/data/hmeq_modeling.csv' \n",
    "df = pd.read_csv(data_url, index_col=\"index\")\n",
    "df.head(5) "
   ]
  },
  {
   "cell_type": "code",
   "execution_count": 84,
   "metadata": {
    "id": "mBjoOLZFa3ae"
   },
   "outputs": [],
   "source": [
    "df['BAD'] = df['BAD'].astype(int)  # zero-one encoding of the target"
   ]
  },
  {
   "cell_type": "code",
   "execution_count": 85,
   "metadata": {},
   "outputs": [
    {
     "data": {
      "text/html": [
       "<div>\n",
       "<style scoped>\n",
       "    .dataframe tbody tr th:only-of-type {\n",
       "        vertical-align: middle;\n",
       "    }\n",
       "\n",
       "    .dataframe tbody tr th {\n",
       "        vertical-align: top;\n",
       "    }\n",
       "\n",
       "    .dataframe thead th {\n",
       "        text-align: right;\n",
       "    }\n",
       "</style>\n",
       "<table border=\"1\" class=\"dataframe\">\n",
       "  <thead>\n",
       "    <tr style=\"text-align: right;\">\n",
       "      <th></th>\n",
       "      <th>BAD</th>\n",
       "      <th>LOAN</th>\n",
       "      <th>MORTDUE</th>\n",
       "      <th>VALUE</th>\n",
       "      <th>YOJ</th>\n",
       "      <th>CLAGE</th>\n",
       "      <th>NINQ</th>\n",
       "      <th>CLNO</th>\n",
       "      <th>DEBTINC</th>\n",
       "      <th>DEROGzero</th>\n",
       "      <th>REASON_HomeImp</th>\n",
       "      <th>REASON_IsMissing</th>\n",
       "      <th>JOB_Office</th>\n",
       "      <th>JOB_Other</th>\n",
       "      <th>JOB_ProfExe</th>\n",
       "      <th>JOB_Sales</th>\n",
       "      <th>JOB_Self</th>\n",
       "      <th>DELINQcat_1</th>\n",
       "      <th>DELINQcat_1+</th>\n",
       "    </tr>\n",
       "    <tr>\n",
       "      <th>index</th>\n",
       "      <th></th>\n",
       "      <th></th>\n",
       "      <th></th>\n",
       "      <th></th>\n",
       "      <th></th>\n",
       "      <th></th>\n",
       "      <th></th>\n",
       "      <th></th>\n",
       "      <th></th>\n",
       "      <th></th>\n",
       "      <th></th>\n",
       "      <th></th>\n",
       "      <th></th>\n",
       "      <th></th>\n",
       "      <th></th>\n",
       "      <th></th>\n",
       "      <th></th>\n",
       "      <th></th>\n",
       "      <th></th>\n",
       "    </tr>\n",
       "  </thead>\n",
       "  <tbody>\n",
       "    <tr>\n",
       "      <th>0</th>\n",
       "      <td>1</td>\n",
       "      <td>-1.832283</td>\n",
       "      <td>-1.295882</td>\n",
       "      <td>-1.335526</td>\n",
       "      <td>0.266788</td>\n",
       "      <td>-1.075278</td>\n",
       "      <td>-0.065054</td>\n",
       "      <td>-1.297476</td>\n",
       "      <td>0.137456</td>\n",
       "      <td>True</td>\n",
       "      <td>1</td>\n",
       "      <td>0</td>\n",
       "      <td>0</td>\n",
       "      <td>1</td>\n",
       "      <td>0</td>\n",
       "      <td>0</td>\n",
       "      <td>0</td>\n",
       "      <td>0</td>\n",
       "      <td>0</td>\n",
       "    </tr>\n",
       "    <tr>\n",
       "      <th>1</th>\n",
       "      <td>1</td>\n",
       "      <td>-1.810666</td>\n",
       "      <td>-0.013474</td>\n",
       "      <td>-0.672699</td>\n",
       "      <td>-0.236615</td>\n",
       "      <td>-0.723092</td>\n",
       "      <td>-0.826792</td>\n",
       "      <td>-0.756608</td>\n",
       "      <td>0.137456</td>\n",
       "      <td>True</td>\n",
       "      <td>1</td>\n",
       "      <td>0</td>\n",
       "      <td>0</td>\n",
       "      <td>1</td>\n",
       "      <td>0</td>\n",
       "      <td>0</td>\n",
       "      <td>0</td>\n",
       "      <td>0</td>\n",
       "      <td>1</td>\n",
       "    </tr>\n",
       "    <tr>\n",
       "      <th>2</th>\n",
       "      <td>1</td>\n",
       "      <td>-1.789048</td>\n",
       "      <td>-1.654549</td>\n",
       "      <td>-1.839275</td>\n",
       "      <td>-0.668103</td>\n",
       "      <td>-0.368769</td>\n",
       "      <td>-0.065054</td>\n",
       "      <td>-1.189302</td>\n",
       "      <td>0.137456</td>\n",
       "      <td>True</td>\n",
       "      <td>1</td>\n",
       "      <td>0</td>\n",
       "      <td>0</td>\n",
       "      <td>1</td>\n",
       "      <td>0</td>\n",
       "      <td>0</td>\n",
       "      <td>0</td>\n",
       "      <td>0</td>\n",
       "      <td>0</td>\n",
       "    </tr>\n",
       "    <tr>\n",
       "      <th>3</th>\n",
       "      <td>1</td>\n",
       "      <td>-1.789048</td>\n",
       "      <td>-0.159552</td>\n",
       "      <td>-0.202559</td>\n",
       "      <td>-0.236615</td>\n",
       "      <td>-0.061033</td>\n",
       "      <td>-0.065054</td>\n",
       "      <td>-0.107566</td>\n",
       "      <td>0.137456</td>\n",
       "      <td>True</td>\n",
       "      <td>0</td>\n",
       "      <td>1</td>\n",
       "      <td>0</td>\n",
       "      <td>1</td>\n",
       "      <td>0</td>\n",
       "      <td>0</td>\n",
       "      <td>0</td>\n",
       "      <td>0</td>\n",
       "      <td>0</td>\n",
       "    </tr>\n",
       "    <tr>\n",
       "      <th>4</th>\n",
       "      <td>0</td>\n",
       "      <td>-1.767431</td>\n",
       "      <td>0.791699</td>\n",
       "      <td>0.311107</td>\n",
       "      <td>-0.811933</td>\n",
       "      <td>-1.088528</td>\n",
       "      <td>-0.826792</td>\n",
       "      <td>-0.756608</td>\n",
       "      <td>0.137456</td>\n",
       "      <td>True</td>\n",
       "      <td>1</td>\n",
       "      <td>0</td>\n",
       "      <td>1</td>\n",
       "      <td>0</td>\n",
       "      <td>0</td>\n",
       "      <td>0</td>\n",
       "      <td>0</td>\n",
       "      <td>0</td>\n",
       "      <td>0</td>\n",
       "    </tr>\n",
       "  </tbody>\n",
       "</table>\n",
       "</div>"
      ],
      "text/plain": [
       "       BAD      LOAN   MORTDUE     VALUE       YOJ     CLAGE      NINQ  \\\n",
       "index                                                                    \n",
       "0        1 -1.832283 -1.295882 -1.335526  0.266788 -1.075278 -0.065054   \n",
       "1        1 -1.810666 -0.013474 -0.672699 -0.236615 -0.723092 -0.826792   \n",
       "2        1 -1.789048 -1.654549 -1.839275 -0.668103 -0.368769 -0.065054   \n",
       "3        1 -1.789048 -0.159552 -0.202559 -0.236615 -0.061033 -0.065054   \n",
       "4        0 -1.767431  0.791699  0.311107 -0.811933 -1.088528 -0.826792   \n",
       "\n",
       "           CLNO   DEBTINC  DEROGzero  REASON_HomeImp  REASON_IsMissing  \\\n",
       "index                                                                    \n",
       "0     -1.297476  0.137456       True               1                 0   \n",
       "1     -0.756608  0.137456       True               1                 0   \n",
       "2     -1.189302  0.137456       True               1                 0   \n",
       "3     -0.107566  0.137456       True               0                 1   \n",
       "4     -0.756608  0.137456       True               1                 0   \n",
       "\n",
       "       JOB_Office  JOB_Other  JOB_ProfExe  JOB_Sales  JOB_Self  DELINQcat_1  \\\n",
       "index                                                                         \n",
       "0               0          1            0          0         0            0   \n",
       "1               0          1            0          0         0            0   \n",
       "2               0          1            0          0         0            0   \n",
       "3               0          1            0          0         0            0   \n",
       "4               1          0            0          0         0            0   \n",
       "\n",
       "       DELINQcat_1+  \n",
       "index                \n",
       "0                 0  \n",
       "1                 1  \n",
       "2                 0  \n",
       "3                 0  \n",
       "4                 0  "
      ]
     },
     "execution_count": 85,
     "metadata": {},
     "output_type": "execute_result"
    }
   ],
   "source": [
    "df.head(5) "
   ]
  },
  {
   "cell_type": "markdown",
   "metadata": {
    "id": "Is9eCWlClqau"
   },
   "source": [
    "## Prediction models\n",
    "Finally, since we aim at assessing predictions, we need to obtain some predictions in the first place. Let's quickly build a logit and a tree model for our data. "
   ]
  },
  {
   "cell_type": "code",
   "execution_count": 86,
   "metadata": {
    "id": "7L_GRXWXlqav"
   },
   "outputs": [],
   "source": [
    "# Split data into target and features\n",
    "X = df.drop(['BAD'], axis=1) # code the variables in the most standard way for your usage\n",
    "y = df['BAD']"
   ]
  },
  {
   "cell_type": "code",
   "execution_count": 87,
   "metadata": {
    "colab": {
     "base_uri": "https://localhost:8080/"
    },
    "id": "5Lb9Ujwtlqay",
    "outputId": "d7f2dfcd-b6c1-4d99-a0fc-227f71facb66"
   },
   "outputs": [
    {
     "data": {
      "text/plain": [
       "LogisticRegression(penalty='none')"
      ]
     },
     "execution_count": 87,
     "metadata": {},
     "output_type": "execute_result"
    }
   ],
   "source": [
    "# Estimate a logit model\n",
    "from sklearn.linear_model import LogisticRegression\n",
    "\n",
    "logit = LogisticRegression(penalty='none', fit_intercept=True)\n",
    "logit.fit(X, y)"
   ]
  },
  {
   "cell_type": "code",
   "execution_count": 88,
   "metadata": {
    "colab": {
     "base_uri": "https://localhost:8080/"
    },
    "id": "5OAzxQ9olqa9",
    "outputId": "73ad1824-3142-4c49-aa06-02f6036ec5a2"
   },
   "outputs": [
    {
     "data": {
      "text/plain": [
       "DecisionTreeClassifier(max_depth=10)"
      ]
     },
     "execution_count": 88,
     "metadata": {},
     "output_type": "execute_result"
    }
   ],
   "source": [
    "# Estimate a CART tree\n",
    "from sklearn.tree import DecisionTreeClassifier\n",
    "\n",
    "tree = DecisionTreeClassifier(criterion='gini', max_depth=10)\n",
    "tree.fit(X, y)"
   ]
  },
  {
   "cell_type": "markdown",
   "metadata": {
    "id": "4gpwDkiIlqbB"
   },
   "source": [
    "# Forecast accuracy in classification"
   ]
  },
  {
   "cell_type": "markdown",
   "metadata": {
    "id": "2LjuGHbnlqbB"
   },
   "source": [
    "## Continuous and discrete predictions\n",
    "To generate prediction from a trained model, we simply apply it to data. You already saw the `predict()` function in action in [Tutorial 5](https://github.com/Humboldt-WI/bads/blob/master/tutorials/5_nb_supervised_learning.ipynb). At this point, however, it is time to examine its results more closely."
   ]
  },
  {
   "cell_type": "code",
   "execution_count": 89,
   "metadata": {
    "colab": {
     "base_uri": "https://localhost:8080/",
     "height": 282
    },
    "id": "Su0FaZ-mlqbC",
    "outputId": "5caf59e5-fcae-4215-9b42-8bc17e117232"
   },
   "outputs": [
    {
     "data": {
      "image/png": "[encoded data removed]",
      "text/plain": [
       "<Figure size 864x432 with 4 Axes>"
      ]
     },
     "metadata": {
      "needs_background": "light"
     },
     "output_type": "display_data"
    }
   ],
   "source": [
    "# We collect predictions into a dataframe for easy visualization\n",
    "df_pred = pd.DataFrame({'y': y, 'cart': tree.predict(X), 'logit': logit.predict(X)})  \n",
    "df_pred.hist();"
   ]
  },
  {
   "cell_type": "markdown",
   "metadata": {
    "id": "IBfMjs4GcY7Z"
   },
   "source": [
    "How to interpret these graphs? Well, many points are maybe noteworthy:\n",
    "- the data is imbalanced, $y$ shows more ones (bad clients) than zeros (good clients).\n",
    "- CART and logit pick-up the imbalance and predict class 0 more often.\n",
    "- CART and logit indeed predict classes. All predictions are either zero or one, and never anything in between.\n",
    "\n",
    "Given the latter point, let's create some probabilistic predictions using the function `predict_proba()`. Remember that `sklearn` classification models routinely offer both functions, `predict()` and `predict_proba()`, for producing discrete and probabilistic predictions, respectively."
   ]
  },
  {
   "cell_type": "code",
   "execution_count": 90,
   "metadata": {
    "colab": {
     "base_uri": "https://localhost:8080/"
    },
    "id": "wzwwjf-mcY7a",
    "outputId": "6af35283-53f6-455d-e593-970373203dba"
   },
   "outputs": [
    {
     "name": "stdout",
     "output_type": "stream",
     "text": [
      "[[0.68156773 0.31843227]\n",
      " [0.28383127 0.71616873]\n",
      " [0.72952638 0.27047362]\n",
      " ...\n",
      " [0.94108985 0.05891015]\n",
      " [0.94531214 0.05468786]\n",
      " [0.94664408 0.05335592]]\n"
     ]
    }
   ],
   "source": [
    "# Add probabilistic predictions to our dataframe\n",
    "p = logit.predict_proba(X)\n",
    "print(p)  # this is a 2D array"
   ]
  },
  {
   "cell_type": "markdown",
   "metadata": {
    "id": "Gdkz-ChqlqbK"
   },
   "source": [
    "Note that the result `p`, which we compute above, is an $n \\times 2$ array. An array was to be expected as we calculate predictions for the $n$ data instances (rows) in $X$. But why have two outputs per data instance? Well, the answer is that we have two classes, and get probability estimates for each of these classes. When storing model predictions for later use, we only need the probabilities for one of the classes. Always make sure you **understand which class predictions you keep.** Examining the `classess` attribute of a model class helps us.   "
   ]
  },
  {
   "cell_type": "code",
   "execution_count": 91,
   "metadata": {
    "colab": {
     "base_uri": "https://localhost:8080/"
    },
    "id": "QzNazHkilqbK",
    "outputId": "9205e94e-c4be-4961-aa00-9e56d88d7988"
   },
   "outputs": [
    {
     "name": "stdout",
     "output_type": "stream",
     "text": [
      "[0 1]\n"
     ]
    }
   ],
   "source": [
    "print(logit.classes_)"
   ]
  },
  {
   "cell_type": "markdown",
   "metadata": {
    "id": "ZWz3AFtnlqbO"
   },
   "source": [
    "This says that we have two classes with class labels zero and one, respectively. Thus, to extract the estimated probabilities of the class with label zero, we can call `p[:,0]`. Likewise, `p[:,1]` gives the estimated membership probabilities of the second class with the label one. This is a bit complicated in the beginning but we have to get used to it. Below, we combine the indexing directly with calling `predict_proba()`, which is common practice, and keep the predictions associated with the second class. In our data, the class label one indicates that a borrower was a bad risk."
   ]
  },
  {
   "cell_type": "code",
   "execution_count": 92,
   "metadata": {
    "colab": {
     "base_uri": "https://localhost:8080/",
     "height": 282
    },
    "id": "8qjv7xS2lqbP",
    "outputId": "aae88ffe-e7d3-4775-a958-b02ace1c5e6e"
   },
   "outputs": [
    {
     "data": {
      "image/png": "[encoded data removed]",
      "text/plain": [
       "<Figure size 864x432 with 6 Axes>"
      ]
     },
     "metadata": {
      "needs_background": "light"
     },
     "output_type": "display_data"
    }
   ],
   "source": [
    "# Augment data frame with predictions\n",
    "df_pred[\"p_logit\"] = p[:,1]\n",
    "df_pred[\"p_tree\"] = tree.predict_proba(X)[:,1]\n",
    "\n",
    "# Also plot the probabilistic predictions\n",
    "df_pred.hist();"
   ]
  },
  {
   "cell_type": "markdown",
   "metadata": {},
   "source": [
    "Did you notice the different distribution of the predictions from the logit model compared to the tree model in the histograms? One could draw several conclusions from the plots. Make sure to think about and understand the following statement:\n",
    "\n",
    "*The number of distinct values among the probability estimates coming from the tree is upper bounded by (and often equivalent to) the number of leaf nodes in a classification tree*\n",
    "\n",
    "We will not elaborate on that statement here, but, at least, verify the claim empirically."
   ]
  },
  {
   "cell_type": "code",
   "execution_count": 93,
   "metadata": {},
   "outputs": [
    {
     "name": "stdout",
     "output_type": "stream",
     "text": [
      "The number of unique predictions from the tree is: 36.\n",
      "The number of leaf nodes is in tree is: 169.\n"
     ]
    }
   ],
   "source": [
    "# Calculate the number of distinct values among the tree predictions\n",
    "n_p_tree =  len(np.unique(df_pred[\"p_tree\"]))\n",
    "print('The number of unique predictions from the tree is: {}.'.format(n_p_tree))\n",
    "\n",
    "# Extract the size of the tree in terms of the number of nodes\n",
    "print('The number of leaf nodes is in tree is: {}.'.format(tree.get_n_leaves()))\n"
   ]
  },
  {
   "cell_type": "markdown",
   "metadata": {},
   "source": [
    "So here, the are more leaf nodes than unique predictions, which is consistent with the above statement. Why does it has to be like that? Fair enough if you find that question trivial, but we want to make sure you fully understand how trees predict probabilities. So make sure we agree with"
   ]
  },
  {
   "cell_type": "markdown",
   "metadata": {
    "id": "A75mB19slqbS"
   },
   "source": [
    "## Measures of predictive accuracy \n",
    "Accuracy indicators help us evaluate how well our model predicts the target. We compute them by **comparing actuals to predictions**. One easy way to do so is by using the `score()` function."
   ]
  },
  {
   "cell_type": "code",
   "execution_count": 94,
   "metadata": {
    "colab": {
     "base_uri": "https://localhost:8080/"
    },
    "id": "mJ7z0KHHlqbS",
    "outputId": "3fb9b3d6-6e52-44db-e122-aceb16b101d2"
   },
   "outputs": [
    {
     "name": "stdout",
     "output_type": "stream",
     "text": [
      "Logit model scores 0.8245\n",
      "Tree model scores 0.9312\n"
     ]
    }
   ],
   "source": [
    "print('Logit model scores {:.4}'.format(logit.score(X, y)))\n",
    "print('Tree model scores {:.4}'.format(tree.score(X, y)))"
   ]
  },
  {
   "cell_type": "markdown",
   "metadata": {
    "id": "YBGfL_rOlqbV"
   },
   "source": [
    "Wow, so easy. Really? What actually is that score? Are higher scores better or should the score be low? We call functions like `score()` convenience functions. They are easy to use but hide many - often important - details. Look into the help to see what `score()` is really computing. "
   ]
  },
  {
   "cell_type": "code",
   "execution_count": 95,
   "metadata": {},
   "outputs": [
    {
     "name": "stdout",
     "output_type": "stream",
     "text": [
      "Help on method score in module sklearn.base:\n",
      "\n",
      "score(X, y, sample_weight=None) method of sklearn.linear_model._logistic.LogisticRegression instance\n",
      "    Return the mean accuracy on the given test data and labels.\n",
      "    \n",
      "    In multi-label classification, this is the subset accuracy\n",
      "    which is a harsh metric since you require for each sample that\n",
      "    each label set be correctly predicted.\n",
      "    \n",
      "    Parameters\n",
      "    ----------\n",
      "    X : array-like of shape (n_samples, n_features)\n",
      "        Test samples.\n",
      "    \n",
      "    y : array-like of shape (n_samples,) or (n_samples, n_outputs)\n",
      "        True labels for X.\n",
      "    \n",
      "    sample_weight : array-like of shape (n_samples,), default=None\n",
      "        Sample weights.\n",
      "    \n",
      "    Returns\n",
      "    -------\n",
      "    score : float\n",
      "        Mean accuracy of self.predict(X) wrt. y.\n",
      "\n",
      "Help on method score in module sklearn.base:\n",
      "\n",
      "score(X, y, sample_weight=None) method of sklearn.tree._classes.DecisionTreeClassifier instance\n",
      "    Return the mean accuracy on the given test data and labels.\n",
      "    \n",
      "    In multi-label classification, this is the subset accuracy\n",
      "    which is a harsh metric since you require for each sample that\n",
      "    each label set be correctly predicted.\n",
      "    \n",
      "    Parameters\n",
      "    ----------\n",
      "    X : array-like of shape (n_samples, n_features)\n",
      "        Test samples.\n",
      "    \n",
      "    y : array-like of shape (n_samples,) or (n_samples, n_outputs)\n",
      "        True labels for X.\n",
      "    \n",
      "    sample_weight : array-like of shape (n_samples,), default=None\n",
      "        Sample weights.\n",
      "    \n",
      "    Returns\n",
      "    -------\n",
      "    score : float\n",
      "        Mean accuracy of self.predict(X) wrt. y.\n",
      "\n"
     ]
    }
   ],
   "source": [
    "help(logit.score)\n",
    "help(tree.score)"
   ]
  },
  {
   "cell_type": "markdown",
   "metadata": {
    "id": "WQoVf9v7lqbV"
   },
   "source": [
    "We just asked you to look into the help. Don't be ignorant. Go back to the help before reading on. Pause."
   ]
  },
  {
   "cell_type": "code",
   "execution_count": 96,
   "metadata": {
    "id": "19ZQnwyalqbW"
   },
   "outputs": [],
   "source": [
    "import time\n",
    "time.sleep(5)"
   ]
  },
  {
   "cell_type": "markdown",
   "metadata": {
    "id": "6zp6vF6glqbZ"
   },
   "source": [
    "Ok, **after reading the help** you now know that `score()` calculates *classification accuracy*. We defined that measure in the lecture. Let's first revisit the calculation"
   ]
  },
  {
   "cell_type": "code",
   "execution_count": 97,
   "metadata": {
    "colab": {
     "base_uri": "https://localhost:8080/"
    },
    "id": "2q53o5sUlqbZ",
    "outputId": "b94b34da-715a-4d3c-8f5a-b6f0233933ca"
   },
   "outputs": [
    {
     "name": "stdout",
     "output_type": "stream",
     "text": [
      "Manually calculated accuracy: 0.8245\n"
     ]
    }
   ],
   "source": [
    "# Re-calc accuracy of logit\n",
    "acc = np.sum(logit.predict(X)==y) / len(y)  # just one way to do the calculation\n",
    "print(\"Manually calculated accuracy: {:.4}\".format(acc))"
   ]
  },
  {
   "cell_type": "markdown",
   "metadata": {
    "id": "OXeVBio1lqbc"
   },
   "source": [
    "Ok that worked out. Now remember that we were rather critical with classification accuracy in the lecture. Let's revisit why we do not like this measure.\n",
    "\n",
    "Classification accuracy is a **threshold metric**. It calculates model performance for one threshold or classification cut-off. If not specified, this threshold is usually set to 0.5. That's also what the `predict()` function does. Changing the threshold can change the accuracy a lot although the model stays the same. This is particularly true in imbalanced data sets like this one. Let me give you an exemplary scenario: We have 100 observations. 5 observations are of the class 'BAD' and 95 of the class 'GOOD'. So even without finding any generalizable patterns, classifying all observations as good would still result in an accuracy of 95%. To ensure robustness of our model, we want to avoid dependence of a performance measure on the cut-off.\n",
    "\n",
    "A preferable approach to assess classification performance is to consider all possible thresholds. This is what *receiver-operating-characteristics (ROC) analysis* does. Before looking into ROC, let's have a look at the full confusion table first, which will also remind us of the role of the threshold."
   ]
  },
  {
   "cell_type": "markdown",
   "metadata": {
    "id": "v8tBsZqWlqbg"
   },
   "source": [
    "### Confusion matrix\n",
    "A confusion matrix is a cross-table of predicted and actual classes. As such, it provides more insight into a classifier compared to the classification accuracy measure, which summarizes the whole confusion table in a single number."
   ]
  },
  {
   "cell_type": "code",
   "execution_count": 98,
   "metadata": {
    "colab": {
     "base_uri": "https://localhost:8080/"
    },
    "id": "C5umH6b1lqbh",
    "outputId": "029762fb-4946-43d5-eebe-a1ec157006b9"
   },
   "outputs": [
    {
     "name": "stdout",
     "output_type": "stream",
     "text": [
      "[[4568  203]\n",
      " [ 843  346]]\n"
     ]
    }
   ],
   "source": [
    "from sklearn import metrics  # Important lib where we find various performance measures\n",
    "\n",
    "# 1. Quick and dirty way to get a confusion table\n",
    "cmat = metrics.confusion_matrix(y, logit.predict(X)) \n",
    "print(cmat)"
   ]
  },
  {
   "cell_type": "code",
   "execution_count": 99,
   "metadata": {
    "colab": {
     "base_uri": "https://localhost:8080/",
     "height": 334
    },
    "id": "0g23rlJ6lqbj",
    "outputId": "9d26fb5d-3186-4af0-e329-2601d7117760"
   },
   "outputs": [
    {
     "data": {
      "image/png": "[encoded data removed]",
      "text/plain": [
       "<Figure size 576x360 with 2 Axes>"
      ]
     },
     "metadata": {
      "needs_background": "light"
     },
     "output_type": "display_data"
    }
   ],
   "source": [
    "# 2. Pretty-print confusion matrix\n",
    "plt.rcParams[\"figure.figsize\"] = (8,5)\n",
    "metrics.plot_confusion_matrix(logit, X, y, labels=[0, 1], display_labels=['Goods(0)', 'Bads(1)'], cmap='Blues',values_format='n')\n",
    "plt.show()"
   ]
  },
  {
   "cell_type": "markdown",
   "metadata": {
    "id": "1zUq9_Dwlqbl"
   },
   "source": [
    "Classification accuracy simply calculates the number of correct class predictions (main diagonal) over all cases. Correct predictions are twofold. We can classify a good customer as good customer and we can classify a bad customer as bad customer. Likewise, our classifier can make two errors, classifying an actually good customer as bad and classifying an actually bad customer as good. We find the numbers of these errors in the off-diagonal of the confusion matrix. Which class a model predicts depends on the classification threshold. You classify cases as BAD if $p(y=BAD|x) \\gt \\tau$, and as GOOD otherwise, whereby $\\tau$ denotes the threshold. \n",
    "\n",
    "Hence, the above **confusion table is based on one threshold**. It might look rather different for another threshold. A ROC curve considers all cut-offs $\\tau \\in [0,1]$ plotting the **True Positive Rate** and **False Positive Rate** for each threshold. Given that ROC analysis is a general tool for binary classification, and used in various domains, people came up with a standardized terminology to refer to the classes. Instead of speaking about goods and bads (i.e., credit scoring jargon) or zeros and ones (which is likely to offend members of the former group), we refer to the classes as the *positive* and the *negative* class. Thus, the TPR is the fraction cases that the classifier predicts to be of class positive, and that actually belong to that class. The true negative rate or TNR is defined alike. For the two errors we have the false positive rate (FPR) and the false negative rate (FNR). Correct interpretation of these errors is maybe a little difficult. How about false positives? The classifier predicts class positive but the prediction is false. Such a case actually belongs to the negative class. So the FPR is the fraction of cases that the classifier predicts as positives and that actually are negatives. The same argumentation goes for the FNR.  "
   ]
  },
  {
   "cell_type": "markdown",
   "metadata": {
    "id": "ETxRT8J9lqbm"
   },
   "source": [
    "### ROC Curve and AUC\n",
    "\n",
    "This is one of the most important evaluation metrics in classification analysis. Have a look at the graph below. The curve tells us how well the model differentiates the two classes, in regards to their predicted probabilities. A ROC curve has the FPR on the X-axis and TPR on the Y-axis. The curve is derived from all the different combinations of TPR and FPR (i.e., confusion tables) across all possible thresholds $0 \\le  \\tau \\le 1$ (assuming we have probabilistic predictions).\n",
    "\n",
    "The AUC stand for the area under the curve and is a ranking indicator. The AUC estimates the probability that a randomly chosen positive instance is correctly ranked higher than a randomly chosen negative (Hanley and McNeil, 1983). We calculate this area, as our goal is to have a FPR of 0 and a TPR of 1. This would be the perfect model. This point is in the top right corner of a ROC Curve. So the closer we get to that point, the better the model and the bigger the area under it. It is common practice to add a horizontal line to the plot. You can show that this line corresponds to a random classifier. So any serious model should give a ROC curve (much) above the horizontal line. This also implies that a classifier should display AUC (much) bigger than 0.5.\n",
    "\n",
    "Below we show different ways to plot the ROC curve."
   ]
  },
  {
   "cell_type": "code",
   "execution_count": 100,
   "metadata": {
    "colab": {
     "base_uri": "https://localhost:8080/",
     "height": 350
    },
    "id": "zPfy5Zu7lqbm",
    "outputId": "75d4ce72-54dc-4ddb-fd8b-8f02e4324f4d"
   },
   "outputs": [
    {
     "data": {
      "image/png": "[encoded data removed]",
      "text/plain": [
       "<Figure size 576x360 with 1 Axes>"
      ]
     },
     "metadata": {
      "needs_background": "light"
     },
     "output_type": "display_data"
    }
   ],
   "source": [
    "# Sklear offers an easy-to-use function to produce a ROC curve. \n",
    "metrics.plot_roc_curve(logit, X, y)\n",
    "plt.title('ROC curve of logit model')\n",
    "plt.plot([0, 1], [0, 1], \"r--\");  # the random benchmark we need to add manually"
   ]
  },
  {
   "cell_type": "markdown",
   "metadata": {
    "id": "pGlxBG3blqbp"
   },
   "source": [
    "If you want a little more control, for example to depict the logit and tree model in one chart, you can proceed as follows: "
   ]
  },
  {
   "cell_type": "code",
   "execution_count": 101,
   "metadata": {
    "colab": {
     "base_uri": "https://localhost:8080/",
     "height": 350
    },
    "id": "l4l0bw6Hlqbq",
    "outputId": "44bc600d-a88a-4926-c14e-cc1a3359eefd"
   },
   "outputs": [
    {
     "data": {
      "image/png": "[encoded data removed]",
      "text/plain": [
       "<Figure size 576x360 with 1 Axes>"
      ]
     },
     "metadata": {
      "needs_background": "light"
     },
     "output_type": "display_data"
    }
   ],
   "source": [
    "# Example how to 'manually' plot the ROC curve\n",
    "fpr, tpr, _ = metrics.roc_curve(y, df_pred['p_logit'].values)  # extracting FPR and TPR for the logit model\n",
    "fpr_tr, tpr_tr, _ = metrics.roc_curve(y, df_pred['p_tree'].values)  # same for the tree model\n",
    "\n",
    "# Compute AUC\n",
    "auc = metrics.auc(fpr, tpr) \n",
    "auc_tr = metrics.auc(fpr_tr, tpr_tr)\n",
    "\n",
    "# ROC curve:\n",
    "plt.plot(fpr, tpr, \"b\", label=\"Logit = %0.4f\" % auc)\n",
    "plt.plot(fpr_tr, tpr_tr, \"b\", label=\"Tree= %0.4f\" % auc_tr, color='green')\n",
    "\n",
    "# Random benchmark\n",
    "plt.plot([0, 1], [0, 1], \"r--\");  \n",
    "\n",
    "# Plot configuration\n",
    "plt.title('ROC curve of logit model on training and test Set')\n",
    "plt.ylabel(\"True Positive Rate\")\n",
    "plt.xlabel(\"False Positive Rate\")\n",
    "plt.legend(loc=\"lower right\")\n",
    "plt.show()"
   ]
  },
  {
   "cell_type": "markdown",
   "metadata": {},
   "source": [
    "In case you wonder, the function `roc_curve()` can also return the distinct cut-offs on which the ROC curve is based. You can check the documentation of the function for details. Essentially, the array of threshold values is the third output of the function, which we suppress in our above calls by adding the underscore.  "
   ]
  },
  {
   "cell_type": "code",
   "execution_count": 102,
   "metadata": {},
   "outputs": [
    {
     "name": "stdout",
     "output_type": "stream",
     "text": [
      "[1.95923146 0.95923146 0.90310032 ... 0.02559934 0.02529979 0.00637088]\n",
      "[2.         1.         0.95833333 0.91666667 0.89189189 0.88888889\n",
      " 0.83333333 0.76923077 0.75       0.66666667 0.64900662 0.64285714\n",
      " 0.6119403  0.5        0.45045045 0.44       0.375      0.37142857\n",
      " 0.3        0.27272727 0.25       0.23809524 0.2        0.16923077\n",
      " 0.13953488 0.125      0.11764706 0.10526316 0.1        0.08324975\n",
      " 0.07216495 0.06666667 0.04411765 0.02752294 0.01400778 0.01108647\n",
      " 0.        ]\n"
     ]
    }
   ],
   "source": [
    "#help(metrics.roc_curve)\n",
    "_, _, thresholds = metrics.roc_curve(y, df_pred['p_logit'].values)  # extracting FPR and TPR for the logit model\n",
    "_, _, thresholds_tr = metrics.roc_curve(y, df_pred['p_tree'].values)  # same for the tree model\n",
    "print(thresholds)\n",
    "print(thresholds_tr)"
   ]
  },
  {
   "cell_type": "code",
   "execution_count": 147,
   "metadata": {},
   "outputs": [
    {
     "data": {
      "text/plain": [
       "array([0.31843227, 0.71616873, 0.27047362, ..., 0.05891015, 0.05468786,\n",
       "       0.05335592])"
      ]
     },
     "execution_count": 147,
     "metadata": {},
     "output_type": "execute_result"
    }
   ],
   "source": [
    "df_pred['p_logit'].values"
   ]
  },
  {
   "cell_type": "markdown",
   "metadata": {
    "id": "acc2YdLtlqby"
   },
   "source": [
    "### Brier score\n",
    "Last but not least, the lecture introduced the *Brier score* as the mean-squared error of a zero-one encoded target variable and probabilistic model predictions. Let's see which of our models does better in terms of Brier score."
   ]
  },
  {
   "cell_type": "code",
   "execution_count": 103,
   "metadata": {
    "colab": {
     "base_uri": "https://localhost:8080/"
    },
    "id": "yPtOOkC7lqby",
    "outputId": "b30f06e5-e790-4e4a-f285-37632c38f397"
   },
   "outputs": [
    {
     "name": "stdout",
     "output_type": "stream",
     "text": [
      "Brier score of logit: 0.127\n",
      "Brier score of the tree: 0.05256\n"
     ]
    }
   ],
   "source": [
    "bs_logit = np.sum( (y - df_pred['p_logit'].values) **2) / len(y)\n",
    "print(\"Brier score of logit: {:.4}\".format(bs_logit))\n",
    "\n",
    "bs_tree = np.sum( (y - df_pred['p_tree'].values) **2) / len(y)\n",
    "print(\"Brier score of the tree: {:.4}\".format(bs_tree))"
   ]
  },
  {
   "cell_type": "markdown",
   "metadata": {
    "id": "TihOOGEXlqb1"
   },
   "source": [
    "The Brier score is an error measure. Lower values indicate better performance. So, we once again find the tree to do better. As a matter of fact, **it was almost certain that the tree would perform better.** Any ideas why this is the case? If yes, pad yourself on the shoulder. You have really understood what predictive modeling is about.\n",
    "\n",
    "**Logistic Regression and trees differ in the way that they generate decision boundaries i.e. the lines that are drawn to separate different classes.**\n",
    "\n",
    "Decision Trees bisect the space into smaller and smaller regions, whereas Logistic Regression fits a single line to divide the space exactly into two. Of course for higher-dimensional data, these lines would generalize to planes and hyperplanes. A single linear boundary can sometimes be limiting for Logistic Regression. In this example where the two classes are separated by a decidedly non-linear boundary, we see that trees can better capture the division, leading to superior classification performance. However, when classes are not well-separated, trees are susceptible to overfitting the training data, so that Logistic Regression’s simple linear boundary generalizes better."
   ]
  },
  {
   "cell_type": "markdown",
   "metadata": {
    "id": "kU4P5t_wlqb2"
   },
   "source": [
    "# Data partitioning and organization\n",
    "Still searching for an answer to the above question why the tree was expected to beat logit? Want some help? The answer has to do with the data we used for calculating predictions and, by extension, model assessment. Specifically, we used the same data for model training and model evaluation. The lecture elaborates on why this is a bad idea, and our empirical results from the previous part kinda confirm that. Go back to the previous part and re-run the codes. This time, however, set the argument `max_depth` for the tree classifier to 10. What do you observe? "
   ]
  },
  {
   "cell_type": "markdown",
   "metadata": {},
   "source": [
    "**even much better**"
   ]
  },
  {
   "cell_type": "markdown",
   "metadata": {
    "id": "rn6LgkxIlqb3"
   },
   "source": [
    "Remember the golden rule of predictive modeling: **Always assess a model on fresh data**. To that end, our model evaluation pipelines routinely include sample splitting or cross-validation. "
   ]
  },
  {
   "cell_type": "markdown",
   "metadata": {
    "id": "RHym3zK0Ol6l"
   },
   "source": [
    "##  Split sample approach\n",
    "\n",
    "When building predictive models, our goal is to build unbiased, generalized models that perform well on any data. To be able to test the model on unknown data, we need to exclude a part of it when training the model. Splitting the data will give us a training and a test set. We use the training data to build the model, and the test data to validate our model performance. This is a common approach to avoid overfitting. It is quick and easy to implement.\n",
    "\n",
    "There are various ways of splitting the data. Usually we randomly sample the data into training and test set at a predefined fraction. How much data we use for the training and test data depends on the amount of data we have. For instance, if our data is scarce, we might chose a higher fraction for the training data. As a rule of thumb: the more data we have for training, the better our model will be. Common approaches are to split the data at a ratio of 80:20 or 70:30.\n",
    "\n",
    "We can implement the splitting manually or use predefined functions. We can implement it manually like this:"
   ]
  },
  {
   "cell_type": "markdown",
   "metadata": {
    "id": "RHym3zK0Ol6l"
   },
   "source": [
    "### Manual data splitting"
   ]
  },
  {
   "cell_type": "code",
   "execution_count": 104,
   "metadata": {
    "colab": {
     "base_uri": "https://localhost:8080/"
    },
    "id": "r3XsUmRLNYI0",
    "outputId": "c4ec8de4-1afd-4b6d-a90d-b591fcbd24e6"
   },
   "outputs": [
    {
     "name": "stdout",
     "output_type": "stream",
     "text": [
      "(4718, 18) (1242, 18)\n",
      "(4718,) (1242,)\n"
     ]
    }
   ],
   "source": [
    "# Create random boolean array at a 70:30 ratio\n",
    "np.random.seed(888)\n",
    "split_sample = np.random.rand(len(df)) < 0.8 \n",
    "\n",
    "# Use sample to create train and test set\n",
    "X_train, y_train = df[split_sample].drop(['BAD'], axis=1), df[split_sample]['BAD']\n",
    "X_test, y_test =  df[~split_sample].drop(['BAD'], axis=1), df[~split_sample]['BAD'] # use ~split_sample to select the opposite observations of split_sample\n",
    "\n",
    "# Check shape \n",
    "print(X_train.shape, X_test.shape) \n",
    "print(y_train.shape, y_test.shape)"
   ]
  },
  {
   "cell_type": "code",
   "execution_count": 105,
   "metadata": {},
   "outputs": [],
   "source": [
    "#test\n",
    "#sum(np.random.rand(len(df)) < 0.7 )/len(df)\n",
    "\n",
    "\n",
    "#logit.fit(X_train, y_train) \n",
    "#logit.predict_proba(X_test)[:,1] \n",
    "#gives the estimated membership probabilities of the second class with the label one."
   ]
  },
  {
   "cell_type": "code",
   "execution_count": 106,
   "metadata": {
    "colab": {
     "base_uri": "https://localhost:8080/",
     "height": 430
    },
    "id": "LN4q_vdlRAzq",
    "outputId": "bd88f26f-187f-4592-c42c-e34b32b3a416"
   },
   "outputs": [
    {
     "name": "stdout",
     "output_type": "stream",
     "text": [
      "Model trained: LogisticRegression\n",
      "The AUC on the test set of this model is: 0.8068\n",
      "\n",
      "Model trained: DecisionTreeClassifier\n",
      "The AUC on the test set of this model is: 0.8553\n",
      "\n"
     ]
    },
    {
     "data": {
      "image/png": "[encoded data removed]",
      "text/plain": [
       "<Figure size 576x360 with 1 Axes>"
      ]
     },
     "metadata": {
      "needs_background": "light"
     },
     "output_type": "display_data"
    }
   ],
   "source": [
    "# Train a model and evaluate it using the split sample approach\n",
    "\n",
    "# Create plot\n",
    "fig, ax = plt.subplots()\n",
    "\n",
    "# Create list of models for the loop\n",
    "models = [logit, tree] \n",
    "\n",
    "# Loop to train and evaluate a model\n",
    "for model in models: \n",
    "  print('Model trained: {}'.format(type(model).__name__))\n",
    "\n",
    "  # Fit model using the training set\n",
    "  model.fit(X_train, y_train) \n",
    "\n",
    "  # Make prediction using the test set\n",
    "  temp = model.predict_proba(X_test)[:,1] \n",
    "\n",
    "  # Calcuate AUC score by using the prediction and y_test \n",
    "  print('The AUC on the test set of this model is: {:.4f}'.format(metrics.roc_auc_score(y_test, temp))) # use our predictions on the test set and compare them to their actuals, y_test \n",
    "  print('')\n",
    "\n",
    "  # Plot ROC curve\n",
    "  metrics.plot_roc_curve(model, X_test, y_test, ax=ax) "
   ]
  },
  {
   "cell_type": "markdown",
   "metadata": {
    "id": "hOicv_hymZeh"
   },
   "source": [
    "As mentioned, this approach can help build generalizable, unbiased models and detect overfitting. In the following code, we compare the ROC curves and AUC scores of the built models evaluated on the training set and test set. We expect the scores to be higher for the training set, as the models were built on this data."
   ]
  },
  {
   "cell_type": "code",
   "execution_count": 107,
   "metadata": {
    "colab": {
     "base_uri": "https://localhost:8080/",
     "height": 334
    },
    "id": "vBw_MP3HCPhx",
    "outputId": "eaf2934b-62c1-4bc7-8b7f-9792cf0a7bfd"
   },
   "outputs": [
    {
     "data": {
      "image/png": "[encoded data removed]",
      "text/plain": [
       "<Figure size 1080x360 with 2 Axes>"
      ]
     },
     "metadata": {
      "needs_background": "light"
     },
     "output_type": "display_data"
    }
   ],
   "source": [
    "# Comparing predictions on train and test set\n",
    "\n",
    "fig, ax = plt.subplots(figsize=(15,5))\n",
    "\n",
    "for i, model in enumerate(models): \n",
    "  ax = plt.subplot(1, 2, i+1) # we can iterate the final number on the subplot to create different plots during the loop, cannot be 0\n",
    "  metrics.plot_roc_curve(model, X_train, y_train, ax=ax, name= 'Training Set {}'.format(type(model).__name__))\n",
    "  metrics.plot_roc_curve(model, X_test, y_test, ax=ax, name= 'Test Set {}'.format(type(model).__name__))"
   ]
  },
  {
   "cell_type": "markdown",
   "metadata": {
    "id": "-Eue6RexmsCr"
   },
   "source": [
    "The train and test set performance is very similar for logit. Logit is a linear classifier and relatively robust toward overfitting. The tree, on the other hand, displays the expected pattern. Training set AUC is higher than test set AUC. Based on our understanding of tree models, we can also predict that the difference between the training set AUC and the test set AUC will increase if we built deeper trees. It would be a good exercise to test this prediction empirically. The notebook provides all you need. You just have to change to tree growing code and ensure your tree model is deeper.  \n",
    "\n",
    "You can also split the data using existing functions. The most common function to use is `train_test_split()`, which splits the data into 4 variables."
   ]
  },
  {
   "cell_type": "markdown",
   "metadata": {},
   "source": [
    "### Inbuilt functions for split sampling"
   ]
  },
  {
   "cell_type": "code",
   "execution_count": 108,
   "metadata": {
    "colab": {
     "base_uri": "https://localhost:8080/"
    },
    "id": "6bhFaFnWT1eR",
    "outputId": "32efefdf-b011-4988-cfec-6c569104d165"
   },
   "outputs": [
    {
     "name": "stdout",
     "output_type": "stream",
     "text": [
      "(4172, 18) (1788, 18)\n",
      "(4172,) (1788,)\n"
     ]
    }
   ],
   "source": [
    "from sklearn.model_selection import train_test_split\n",
    "\n",
    "# Split data into training and test\n",
    "X_train, X_test, y_train, y_test = train_test_split(X, y, test_size=0.3, random_state=888)\n",
    "\n",
    "# Check shape\n",
    "print(X_train.shape, X_test.shape) \n",
    "print(y_train.shape, y_test.shape)"
   ]
  },
  {
   "cell_type": "code",
   "execution_count": 109,
   "metadata": {
    "colab": {
     "base_uri": "https://localhost:8080/",
     "height": 430
    },
    "id": "68RlFyy-VljZ",
    "outputId": "32b1a10e-17a1-4ca6-fa2c-8bdb3658f71b"
   },
   "outputs": [
    {
     "name": "stdout",
     "output_type": "stream",
     "text": [
      "Lets train a: LogisticRegression\n",
      "The AUC of ths model is: 0.7923\n",
      "\n",
      "Lets train a: DecisionTreeClassifier\n",
      "The AUC of ths model is: 0.8174\n",
      "\n"
     ]
    },
    {
     "data": {
      "image/png": "[encoded data removed]",
      "text/plain": [
       "<Figure size 576x360 with 1 Axes>"
      ]
     },
     "metadata": {
      "needs_background": "light"
     },
     "output_type": "display_data"
    }
   ],
   "source": [
    "# Use this data as input for our loop for model building and evaluation of the split sample approach\n",
    "\n",
    "fig, ax = plt.subplots()\n",
    "\n",
    "for model in models: \n",
    "  print('Lets train a: {}'.format(type(model).__name__))\n",
    "  model.fit(X_train, y_train)\n",
    "  temp = model.predict_proba(X_test)[:,1]\n",
    "  \n",
    "  print('The AUC of ths model is: {:.4f}'.format(metrics.roc_auc_score(y_test, temp)))\n",
    "  print('')\n",
    "  metrics.plot_roc_curve(model, X_test, y_test, ax=ax)"
   ]
  },
  {
   "cell_type": "markdown",
   "metadata": {
    "id": "-bUQ77Evlqb4"
   },
   "source": [
    "## Cross-validation\n",
    "Cross validation is an extended approach of the split sample method. It consists of repeating the split sample method multiple times.\n",
    "\n",
    "Step by step:\n",
    "- Randomly split data in N disjoint folds (E.g., N=5) \n",
    "- Build model on N-1 folds and validate that model on the remaining fold \n",
    "- Apply trained model to predict cases in the validation sample (hold-out data) \n",
    "- Measure model performance \n",
    "- Repeat N times and average \n",
    "- Average model performance over validation folds gives performance estimate \n",
    "- Can also estimate standard deviation (e.g., for statistical hypothesis testing)\n",
    "\n",
    "It is an extension to the split sample approach, as we use all the data for model building, which can improve our model building and predictions."
   ]
  },
  {
   "cell_type": "markdown",
   "metadata": {
    "id": "-bGcqhNjcY9F"
   },
   "source": [
    "### Cross-validation from scratch\n",
    "As always, we start with examining how we can implement an algorithm, in this case cross-validation, manually without involving higher-level functions of, e.g., `skelarn`. Below is an example. The code makes use of some maybe more advanced features of Python indexing. Examine our custom function `cv_split()` and you see what we mean. This [threat on stackoverflow](https://stackoverflow.com/questions/9027862/what-does-listxy-do) offers useful background on the maybe strange looking index `i::splits`. In a nutshell, what we do is:\n",
    "- We take a list (i.e., `seq` in the code)\n",
    "- We index that list\n",
    "  - starting from i\n",
    "  - all the way to the end\n",
    "  - with a **step size** of splits\n",
    "  \n",
    "The call of our customer function probably also warrants a little time to understand what it does. As always, play with codes and debug statements you do not understand right away. For example, \n",
    "- Print out the result of calling `df.index.values.tolist()`\n",
    "- Next print out the result of `shuffle(df.index.values.tolist(), random_state = 888)`\n",
    "- etc."
   ]
  },
  {
   "cell_type": "code",
   "execution_count": 120,
   "metadata": {
    "id": "EfRr-FxqtIyb"
   },
   "outputs": [],
   "source": [
    "# Use shuffle function to make the split random\n",
    "from sklearn.utils import shuffle\n",
    "\n",
    "# Define number of splits\n",
    "k = 5\n",
    "\n",
    "# Create function splitting the data into k equal sets\n",
    "def cv_split(seq, splits):\n",
    "    return (seq[i::splits] for i in range(splits))  # The :: might look odd. Python's slicing syntax is quite powerful and we make use of it here. Check out this URL if you'd like to know the details or simply play with the code to debug \n",
    "\n",
    "# Create a list of the index of our full data set as input, and k for the amount of splits\n",
    "cv_split_list = list(cv_split(shuffle(df.index.values.tolist(), random_state = 888), k)) "
   ]
  },
  {
   "cell_type": "code",
   "execution_count": 129,
   "metadata": {
    "id": "pjsNu55rcY9J"
   },
   "outputs": [
    {
     "name": "stdout",
     "output_type": "stream",
     "text": [
      "5960\n",
      "5960\n",
      "5960\n",
      "5\n"
     ]
    }
   ],
   "source": [
    "# Empty cell for your debugging (hint, hint)\n",
    "print(len(df))\n",
    "print(len(df.index.values.tolist()))\n",
    "print(len(shuffle(df.index.values.tolist())))\n",
    "print(len(cv_split_list))"
   ]
  },
  {
   "cell_type": "markdown",
   "metadata": {
    "id": "gXFljpoAcY9M"
   },
   "source": [
    "To further improve our understanding of the cross-validation from scratch example, let's loop over our folds and see whether they are of the right length."
   ]
  },
  {
   "cell_type": "code",
   "execution_count": 130,
   "metadata": {
    "colab": {
     "base_uri": "https://localhost:8080/"
    },
    "id": "YxjvCKCfcY9M",
    "outputId": "dadb3093-3328-44a3-fb0c-fc916e3255e3"
   },
   "outputs": [
    {
     "name": "stdout",
     "output_type": "stream",
     "text": [
      "Fold 1 is the correct lentgh = True\n",
      "Fold 2 is the correct lentgh = True\n",
      "Fold 3 is the correct lentgh = True\n",
      "Fold 4 is the correct lentgh = True\n",
      "Fold 5 is the correct lentgh = True\n"
     ]
    }
   ],
   "source": [
    "# Check if they all are the correct length (length of whole dataframe / k)\n",
    "for i, element in enumerate(cv_split_list):\n",
    "\n",
    "    print('Fold {}'.format(i+1), 'is the correct lentgh = {}'.format(len(element)==int(len(df)/k))) #check if all elements are the correct size, which is the length of the total dataframe devided by how many subsets we want"
   ]
  },
  {
   "cell_type": "markdown",
   "metadata": {
    "id": "6CsbCYbFcY9R"
   },
   "source": [
    "Ok that looks good. We now have defined $k$ folds each of which contains the same number of data points, whereby the order of the data points has previously been randomized by calling the function `shuffle()`. That completes the data splitting part of cross-validation. If you move up a bit in the notebook, you find the bullet list of cross-validation steps right after the section header. Out of that list, we have dealt with the first bullet. So not quite there yet. \n",
    "\n",
    "Next is the iterative part. Each of our data bucket serves as a validation sample once and we use that sample to assess a model, which we estimate from the union of the $k-1$ other buckets. That is what we do in the following piece of code. It looks quite long but actually introduces not much new materials. You know how to train a model and generate predictions. That is what we do, and since we apply cross-validation, we do it in a loop. Further, in each iteration of the loop, we create a ROC curve. This gives a nice graph in the end, which provides an easy to grasp idea how model performance varies over the cross-validation iterations (i.e., folds)."
   ]
  },
  {
   "cell_type": "code",
   "execution_count": 131,
   "metadata": {
    "colab": {
     "base_uri": "https://localhost:8080/",
     "height": 1000
    },
    "id": "BOpgl0Vt703K",
    "outputId": "8aa6cbd4-935c-4a1a-ccc2-4e39d1ff5fc1"
   },
   "outputs": [
    {
     "name": "stdout",
     "output_type": "stream",
     "text": [
      "We will apply cross-validation for the following model: LogisticRegression\n",
      "\n",
      "This is the 1. iteration\n",
      "The AUC on test set is: 0.7729\n",
      "Average AUC on test set during cross-validation: 0.7729\n",
      "\n",
      "This is the 2. iteration\n",
      "The AUC on test set is: 0.7800\n",
      "Average AUC on test set during cross-validation: 0.7764\n",
      "\n",
      "This is the 3. iteration\n",
      "The AUC on test set is: 0.7987\n",
      "Average AUC on test set during cross-validation: 0.7839\n",
      "\n",
      "This is the 4. iteration\n",
      "The AUC on test set is: 0.7785\n",
      "Average AUC on test set during cross-validation: 0.7825\n",
      "\n",
      "This is the 5. iteration\n",
      "The AUC on test set is: 0.7942\n",
      "The final average AUC is: 0.7849\n",
      "The standard error is: 0.0099\n",
      "\n",
      "We will apply cross-validation for the following model: DecisionTreeClassifier\n",
      "\n",
      "This is the 1. iteration\n",
      "The AUC on test set is: 0.7729\n",
      "Average AUC on test set during cross-validation: 0.7925\n",
      "\n",
      "This is the 2. iteration\n",
      "The AUC on test set is: 0.7800\n",
      "Average AUC on test set during cross-validation: 0.7987\n",
      "\n",
      "This is the 3. iteration\n",
      "The AUC on test set is: 0.7987\n",
      "Average AUC on test set during cross-validation: 0.8044\n",
      "\n",
      "This is the 4. iteration\n",
      "The AUC on test set is: 0.7785\n",
      "Average AUC on test set during cross-validation: 0.8087\n",
      "\n",
      "This is the 5. iteration\n",
      "The AUC on test set is: 0.7942\n",
      "The final average AUC is: 0.8126\n",
      "The standard error is: 0.0290\n",
      "\n"
     ]
    },
    {
     "data": {
      "image/png": "[encoded data removed]",
      "text/plain": [
       "<Figure size 1080x360 with 2 Axes>"
      ]
     },
     "metadata": {
      "needs_background": "light"
     },
     "output_type": "display_data"
    }
   ],
   "source": [
    "# Setting the figure size and setting a variable (x) to a random number, so we can create two seperate subplots\n",
    "fig, ax = plt.subplots(figsize=(15,5))\n",
    "\n",
    "# Empty variable needed for the loop\n",
    "cv_auc = []\n",
    "\n",
    "# Loops through the model list\n",
    "for x, model in enumerate(models):\n",
    "  \n",
    "  print('We will apply cross-validation for the following model: {}'.format(type(model).__name__))\n",
    "  print('')\n",
    "\n",
    "  # Setting subplot, title and creating the random benchmark line\n",
    "  ax = plt.subplot(1,2, x+1) \n",
    "  ax.plot([0, 1], [0, 1], linestyle='--', lw=2, color='k', alpha=.8)\n",
    "  ax.set_title((type(model).__name__)) \n",
    "  x = x + 1 # add one so the next model will be plotted in a seperate plot\n",
    "\n",
    "  # Start another loop for the cv_split_split, every model will go through this loop:\n",
    "  for i, cv_split in enumerate(cv_split_list): # Enumerate: loop over an iterable with an automatic running index generated by a counter variable. The counter starts at 0 by default. This will be our variable i. \n",
    "\n",
    "    # Display iteration                                  \n",
    "    iteration = i + 1 # +1 as it starts at 0                  \n",
    "    print('This is the '+ str(iteration)+'. iteration')\n",
    "\n",
    "    # Apply cv_split to the data frame, matches indeces in cv_split and the whole dataframe and creates a variable including the subset\n",
    "    test_index = df.index.isin(cv_split) # cv_split defines our hold out data for each round            \n",
    "                                      \n",
    "                                       \n",
    "    # Split data using the test_index variable                                    \n",
    "    X_train, y_train = X.iloc[~test_index], y[~test_index] \n",
    "    X_test, y_test =  X.iloc[test_index], y[test_index]   \n",
    "\n",
    "    # Fit model\n",
    "    model.fit(X_train, y_train)                                                             \n",
    "\n",
    "    # Use roc_plot_curve function to calculate fpr, tpr and compute the ROC curve for the current model                                 \n",
    "    roc_plot = metrics.plot_roc_curve(model, X_test, y_test,  \n",
    "                         name='Fold {}'.format(iteration),\n",
    "                         alpha=0.6, ax=ax) \n",
    "    \n",
    "    # Calculate AUC based on fpr and tpr emerging from the roc_plot_curve function\n",
    "    cv_auc.append(metrics.auc(roc_plot.fpr, roc_plot.tpr)) \n",
    "    print('The AUC on test set is: {:.4f}'.format(cv_auc[i]))    \n",
    "\n",
    "    # For the final iteration:\n",
    "    if iteration == k: \n",
    "\n",
    "      # average over all AUCs that are stored up until the current iteration\n",
    "      print('The final average AUC is: {:.4f}'.format(sum(cv_auc) / float(len(cv_auc))))  \n",
    "\n",
    "      # Calculae standard error of AUC\n",
    "      std_auc = np.std(cv_auc)\n",
    "      print('The standard error is: {:.4f}'.format(std_auc))\n",
    "\n",
    "    # For every other iteration \n",
    "    else:\n",
    "      print('Average AUC on test set during cross-validation: {:.4f}'.format(sum(cv_auc) / float(len(cv_auc))))       #\n",
    "                                                                             \n",
    "    print('') \n",
    "\n",
    "plt.show()"
   ]
  },
  {
   "cell_type": "markdown",
   "metadata": {
    "id": "x805vnwFHAKo"
   },
   "source": [
    "### Inbuilt functions for cross-validation\n",
    "As we know, usually there are functions already implementing what we need; same for cross-validation."
   ]
  },
  {
   "cell_type": "code",
   "execution_count": 139,
   "metadata": {
    "id": "2buZ0OlvnrE4"
   },
   "outputs": [
    {
     "data": {
      "text/plain": [
       "KFold(n_splits=5, random_state=888, shuffle=True)"
      ]
     },
     "execution_count": 139,
     "metadata": {},
     "output_type": "execute_result"
    }
   ],
   "source": [
    "from sklearn.model_selection import KFold\n",
    "\n",
    "# This function will replace our cv_split_list function\n",
    "kf = KFold(n_splits=k, shuffle= True, random_state=888)\n",
    "kf"
   ]
  },
  {
   "cell_type": "markdown",
   "metadata": {
    "id": "z9OFQCmroOpa"
   },
   "source": [
    "We can now use kf the same way we used the cv_split_list, by just adding it to our loop. The loop is identical to the one above, expect for minor adjustments for the KFold function. The comments will highlight the changes."
   ]
  },
  {
   "cell_type": "code",
   "execution_count": 134,
   "metadata": {
    "colab": {
     "base_uri": "https://localhost:8080/",
     "height": 1000
    },
    "id": "R8fS3l7enDpT",
    "outputId": "af87f60f-f6f2-49d9-8ed6-4f445f7e538e"
   },
   "outputs": [
    {
     "name": "stdout",
     "output_type": "stream",
     "text": [
      "We will apply cross-validation for the following model: LogisticRegression\n",
      "\n",
      "This is the 1. iteration\n",
      "The AUC on test set is: 0.7857\n",
      "Average AUC on test set during cross-validation: 0.7857\n",
      "\n",
      "This is the 2. iteration\n",
      "The AUC on test set is: 0.8022\n",
      "Average AUC on test set during cross-validation: 0.7940\n",
      "\n",
      "This is the 3. iteration\n",
      "The AUC on test set is: 0.7929\n",
      "Average AUC on test set during cross-validation: 0.7936\n",
      "\n",
      "This is the 4. iteration\n",
      "The AUC on test set is: 0.7685\n",
      "Average AUC on test set during cross-validation: 0.7873\n",
      "\n",
      "This is the 5. iteration\n",
      "The AUC on test set is: 0.7749\n",
      "The final average AUC is: 0.7848\n",
      "The standard error is: 0.0121\n",
      "\n",
      "We will apply cross-validation for the following model: DecisionTreeClassifier\n",
      "\n",
      "This is the 1. iteration\n",
      "The AUC on test set is: 0.7857\n",
      "Average AUC on test set during cross-validation: 0.7957\n",
      "\n",
      "This is the 2. iteration\n",
      "The AUC on test set is: 0.8022\n",
      "Average AUC on test set during cross-validation: 0.7981\n",
      "\n",
      "This is the 3. iteration\n",
      "The AUC on test set is: 0.7929\n",
      "Average AUC on test set during cross-validation: 0.8028\n",
      "\n",
      "This is the 4. iteration\n",
      "The AUC on test set is: 0.7685\n",
      "Average AUC on test set during cross-validation: 0.8022\n",
      "\n",
      "This is the 5. iteration\n",
      "The AUC on test set is: 0.7749\n",
      "The final average AUC is: 0.8055\n",
      "The standard error is: 0.0261\n",
      "\n"
     ]
    },
    {
     "data": {
      "image/png": "[encoded data removed]",
      "text/plain": [
       "<Figure size 1080x360 with 2 Axes>"
      ]
     },
     "metadata": {
      "needs_background": "light"
     },
     "output_type": "display_data"
    }
   ],
   "source": [
    "fig, ax = plt.subplots(figsize=(15,5))\n",
    "\n",
    "kf_cv_auc = []\n",
    "\n",
    "for x, model in enumerate(models):\n",
    "  \n",
    "  print('We will apply cross-validation for the following model: {}'.format(type(model).__name__))\n",
    "  print('')\n",
    "\n",
    "  \n",
    "  ax = plt.subplot(1,2, x+1) \n",
    "  ax.plot([0, 1], [0, 1], linestyle='--', lw=2, color='k', alpha=.8)\n",
    "  ax.set_title((type(model).__name__)) \n",
    "  x = x + 1\n",
    "\n",
    " \n",
    "  for i, (train_index, test_index) in enumerate(kf.split(X, y)): # we extract train_index AND test_index from the KFold split.\n",
    "    iteration = i + 1                  \n",
    "    print('This is the '+ str(iteration)+'. iteration')                                    \n",
    "                                       \n",
    "    # Using the train_index and test_index to define the variables, opposed to temp and ~temp                                     \n",
    "    X_train, y_train = X.iloc[train_index], y[train_index]\n",
    "    X_test, y_test = X.iloc[test_index], y[test_index]\n",
    "\n",
    "    model.fit(X_train, y_train)                                                             \n",
    "                          \n",
    "    roc_plot = metrics.plot_roc_curve(model, X_test, y_test,  \n",
    "                         name='Fold {}'.format(iteration),\n",
    "                         alpha=0.6, ax=ax) \n",
    "    \n",
    "    kf_cv_auc.append(metrics.auc(roc_plot.fpr, roc_plot.tpr)) \n",
    "    print('The AUC on test set is: {:.4f}'.format(kf_cv_auc[i]))    \n",
    "\n",
    "    if iteration == k: \n",
    "\n",
    "      print('The final average AUC is: {:.4f}'.format(sum(kf_cv_auc) / float(len(kf_cv_auc))))  \n",
    "\n",
    "      kf_std_auc = np.std(kf_cv_auc)\n",
    "      print('The standard error is: {:.4f}'.format(kf_std_auc))\n",
    " \n",
    "    else:\n",
    "      print('Average AUC on test set during cross-validation: {:.4f}'.format(sum(kf_cv_auc) / float(len(kf_cv_auc))))       #\n",
    "                                                                             \n",
    "    print('') \n",
    "\n",
    "plt.show()"
   ]
  },
  {
   "cell_type": "markdown",
   "metadata": {},
   "source": [
    "There is also a *convenience* function for cross-validation called `cross_val_score()`. Let's take a look."
   ]
  },
  {
   "cell_type": "code",
   "execution_count": 135,
   "metadata": {},
   "outputs": [
    {
     "name": "stdout",
     "output_type": "stream",
     "text": [
      "AUC per iteration:  [0.76939644 0.76583778 0.76848035 0.80217747 0.73863521]\n",
      "Mean AUC = 0.7689\n"
     ]
    }
   ],
   "source": [
    "from sklearn.model_selection import cross_val_score          \n",
    "perf = cross_val_score(logit, X, y, scoring='roc_auc', cv=k)\n",
    "print('AUC per iteration: ', perf)\n",
    "print('Mean AUC = {:.4}'.format(np.mean(perf)))"
   ]
  },
  {
   "cell_type": "markdown",
   "metadata": {},
   "source": [
    "Very convenient indeed. We essentially need one function call to perform cross-validation. The caveat is that we must specify which performance measure we want.  The set of supported measures is comprehensive (see [here](https://scikit-learn.org/stable/modules/model_evaluation.html)) but you have to pick one. Often, we would like to calculate multiple performance measures in one go, but *computer says no*. This use case is not directly supported by `cross_val_score()`. Of course we could work around this. Consider the following example."
   ]
  },
  {
   "cell_type": "code",
   "execution_count": 136,
   "metadata": {
    "colab": {
     "base_uri": "https://localhost:8080/"
    },
    "id": "9WnoOmBPHRkv",
    "outputId": "ac80e9b5-862f-40a7-dc8c-0944343c2e80"
   },
   "outputs": [
    {
     "name": "stdout",
     "output_type": "stream",
     "text": [
      "The mean accuracy is 0.8149\n",
      "\n",
      "The mean balanced_accuracy is 0.6071\n",
      "\n",
      "The mean roc_auc is 0.7689\n",
      "\n"
     ]
    }
   ],
   "source": [
    "# Create a list of performance measures so we can loop through them. See here for the full list: https://scikit-learn.org/stable/modules/model_evaluation.html \n",
    "p_measures  = ['accuracy', 'balanced_accuracy' , 'roc_auc'] \n",
    "                   \n",
    "for p_m in p_measures:\n",
    "\n",
    "   # Use cv=kf from above to integrate the KFold split, we use the full data (X and y) here, as the function will split the data for us\n",
    "   temp = cross_val_score(logit, X, y, scoring=p_m, cv=k)   # here we set cv to k, the number of splits and the function does the rest\n",
    "\n",
    "   # Print average performance \n",
    "   print('The mean {}'.format(p_m), 'is {:.4}\\n'.format(np.mean(temp))) \n",
    "   "
   ]
  },
  {
   "cell_type": "markdown",
   "metadata": {},
   "source": [
    "The above example is easy to understand and intuitive from the perspective of Python programming. We want to perform some task multiple times (i.e. assess a model using multiple performance measures), so we write a loop. Obvious solution. The code is workable but note  that it is also inefficient. Cross-validation is a costly operation due to training multiple models. Here, we first train `k` logit models for computing the average accuracy, then train another `k` logit models to calculate the average balanced accuracy (just some other performance measure), and then we create yet another `k` logit models to calculate average AUC. **Very inefficient!!!**. Also pay attention to the comments in the above example, which hint at another possible issue with our example and how to rectify it. \n",
    "\n",
    "It would be much better to run one cross-validation and calculate results for all performance measures of interest in one go. Luckily, the designers of `sklearn` thought of that use case as well.   "
   ]
  },
  {
   "cell_type": "code",
   "execution_count": 143,
   "metadata": {
    "colab": {
     "base_uri": "https://localhost:8080/"
    },
    "id": "j1Mm_OtxHuE5",
    "outputId": "b165bfa7-2b57-4b4c-d095-3a4051598fb5"
   },
   "outputs": [
    {
     "data": {
      "text/plain": [
       "{'fit_time': array([0.03516603, 0.039639  , 0.03114271, 0.03094316, 0.03444624]),\n",
       " 'score_time': array([0.0101831 , 0.00916195, 0.00823617, 0.01247168, 0.00901079]),\n",
       " 'test_accuracy': array([0.79110738, 0.8011745 , 0.82466443, 0.8397651 , 0.81795302]),\n",
       " 'test_balanced_accuracy': array([0.63456389, 0.62035569, 0.62399362, 0.61450681, 0.54219409]),\n",
       " 'test_roc_auc': array([0.76939644, 0.76583778, 0.76848035, 0.80217747, 0.73863521])}"
      ]
     },
     "execution_count": 143,
     "metadata": {},
     "output_type": "execute_result"
    }
   ],
   "source": [
    "# This is an extension to the above function and supports several performance measures\n",
    "from sklearn.model_selection import cross_validate \n",
    "\n",
    "# Add list of scoring parameters directly to the function\n",
    "score = cross_validate(logit, X, y, scoring=p_measures, cv=k)\n",
    "score"
   ]
  },
  {
   "cell_type": "code",
   "execution_count": 142,
   "metadata": {
    "colab": {
     "base_uri": "https://localhost:8080/"
    },
    "id": "aAkLzRC0KdTv",
    "outputId": "21e7bf27-4f39-49ea-b02c-cf1152906d9b"
   },
   "outputs": [
    {
     "data": {
      "text/plain": [
       "fit_time                  0.033535\n",
       "score_time                0.009644\n",
       "test_accuracy             0.814933\n",
       "test_balanced_accuracy    0.607123\n",
       "test_roc_auc              0.768905\n",
       "dtype: float64"
      ]
     },
     "execution_count": 142,
     "metadata": {},
     "output_type": "execute_result"
    }
   ],
   "source": [
    "# Calculate mean values for the above function\n",
    "pd.DataFrame(score).mean()"
   ]
  },
  {
   "cell_type": "code",
   "execution_count": 144,
   "metadata": {
    "colab": {
     "base_uri": "https://localhost:8080/"
    },
    "id": "vSPXb_K-qoVC",
    "outputId": "7eae8e68-5484-4f74-8697-7e0198064dd7"
   },
   "outputs": [
    {
     "data": {
      "text/plain": [
       "{'fit_time': array([0.03769803, 0.03209305, 0.03004694, 0.02954602, 0.02723479]),\n",
       " 'score_time': array([0.01324487, 0.00915813, 0.00848389, 0.00814199, 0.00809216]),\n",
       " 'test_accuracy': array([0.83305369, 0.82466443, 0.83137584, 0.8238255 , 0.80704698]),\n",
       " 'test_balanced_accuracy': array([0.61205369, 0.6220041 , 0.6526001 , 0.61324781, 0.61183956]),\n",
       " 'test_roc_auc': array([0.78570008, 0.80222196, 0.79289891, 0.7684828 , 0.77489801])}"
      ]
     },
     "execution_count": 144,
     "metadata": {},
     "output_type": "execute_result"
    }
   ],
   "source": [
    "# Again you can also use KFold for the cross_validate function\n",
    "cross_validate(logit, X, y, scoring=p_measures, cv=kf)"
   ]
  },
  {
   "cell_type": "markdown",
   "metadata": {},
   "source": [
    "[To find more information on cross-validation, check out this excellent page from the official sklean documentation](https://scikit-learn.org/stable/modules/cross_validation.html)"
   ]
  },
  {
   "cell_type": "markdown",
   "metadata": {
    "id": "bB_nOUCFgf_N"
   },
   "source": [
    "# Conclusion/ Take-Aways\n",
    "the tutorial has introduces many highly relevant and useful functions. You have seen each of them in action and there was a lot of discussion to highlight pros and cons, amongst others. We will use many of the functions covered here routinely in future tutorials. Of course, you can always come back to this tutorial and revisit the demo of some function. To that end, let us conclude by recapitulating the most important functions from today.  \n",
    "\n",
    "| Prediction Type | Possible Function |\n",
    "| --- | --- |\n",
    "| discrete| `some_model.predict()` |\n",
    "| continuous | `some_model.predict_proba()` |\n",
    "\n",
    "___\n",
    "\n",
    "\n",
    "| Performance Measure| Possible Function |\n",
    "| --- | --- |\n",
    "| accuracy |` some_model.score()`|\n",
    "| confusion matrix| `metrics.confusion_matrix()` |\n",
    " | ROC curve | `metrics.plot_roc_curve()`  | \n",
    "| AUC | `metrics.roc_auc_score()` |\n",
    "| Brier Score | calculate mean squared error |\n",
    "\n",
    "___\n",
    "\n",
    "| Data Partitioning Approach | Possible Function |\n",
    "| --- | --- |\n",
    "| split sample | `train_test_split()` |\n",
    "| cross-validation | `cross_validate()` |"
   ]
  },
  {
   "cell_type": "markdown",
   "metadata": {
    "id": "1_eE3b_yH79e"
   },
   "source": [
    "# Extras:\n",
    "Here is a slightly more sophisticated version of our previous cross-validation from scratch example in which we also create an average ROC curve. This is a little extra for the experts. Feel free to ignore."
   ]
  },
  {
   "cell_type": "code",
   "execution_count": 145,
   "metadata": {
    "colab": {
     "base_uri": "https://localhost:8080/",
     "height": 656
    },
    "id": "RfuPKhFuzGjl",
    "outputId": "c469767e-b1a9-4743-dd39-7e7d5ab36baf"
   },
   "outputs": [
    {
     "name": "stdout",
     "output_type": "stream",
     "text": [
      "This is the 1. iteration\n",
      "The AUC on test set  is:0.7729\n",
      "Average AUC on test set during cross-validation:0.7729\n",
      "\n",
      "This is the 2. iteration\n",
      "The AUC on test set  is:0.7800\n",
      "Average AUC on test set during cross-validation:0.7764\n",
      "\n",
      "This is the 3. iteration\n",
      "The AUC on test set  is:0.7987\n",
      "Average AUC on test set during cross-validation:0.7839\n",
      "\n",
      "This is the 4. iteration\n",
      "The AUC on test set  is:0.7785\n",
      "Average AUC on test set during cross-validation:0.7825\n",
      "\n",
      "This is the 5. iteration\n",
      "The AUC on test set  is:0.7942\n",
      "Average AUC on test set during cross-validation:0.7849\n",
      "\n"
     ]
    },
    {
     "data": {
      "image/png": "[encoded data removed]",
      "text/plain": [
       "<Figure size 576x360 with 1 Axes>"
      ]
     },
     "metadata": {
      "needs_background": "light"
     },
     "output_type": "display_data"
    }
   ],
   "source": [
    "fig, ax = plt.subplots()\n",
    "\n",
    "# Create empty variables \n",
    "\n",
    "mean_fpr = np.linspace(0, 1, 100) # Returns evenly spaced samples, calculated over the interval:  np.linespace(start, stop, number of samples)\n",
    "tpr_list = []  \n",
    "cv_auc = []\n",
    "\n",
    "# Create loop as before\n",
    "for i, cv_split in enumerate(cv_split_list): \n",
    "                                      \n",
    "  iteration = i + 1                 \n",
    "  print('This is the '+ str(iteration)+'. iteration')\n",
    "  temp = df.index.isin(cv_split)            \n",
    "\n",
    "  X_train, y_train = X.iloc[~temp], y[~temp] \n",
    "  X_test, y_test =  X.iloc[temp], y[temp]    \n",
    "  \n",
    "\n",
    "  logit.fit(X_train, y_train)                                                             \n",
    "  temp_pred = logit.predict_proba(X_test)[:, 1]                                            \n",
    "  \n",
    "  roc_plot = metrics.plot_roc_curve(logit, X_test, y_test,  \n",
    "                         name='Fold {}'.format(iteration),\n",
    "                         alpha=0.6, ax=ax) \n",
    "  cv_auc.append(metrics.auc(roc_plot.fpr, roc_plot.tpr)) \n",
    "  print('The AUC on test set  is:{:.4f}'.format(cv_auc[i]))                                                            \n",
    "  print('Average AUC on test set during cross-validation:{:.4f}'.format(sum(cv_auc) / float(len(cv_auc))))\n",
    "  \n",
    "  # Linear interpolation, fitting a curve using the discrete coordinates\n",
    "  interp_tpr = np.interp(mean_fpr, roc_plot.fpr, roc_plot.tpr)\n",
    "  interp_tpr[0] = 0.0\n",
    "  tpr_list.append(interp_tpr)                                                                                                           \n",
    "  print('')                         \n",
    "                                    \n",
    "# Calculate values for mean ROC curve\n",
    "mean_tpr = np.mean(tpr_list, axis=0) \n",
    "mean_tpr[-1] = 1.0                       \n",
    "mean_auc = metrics.auc(mean_fpr, mean_tpr)\n",
    "std_auc = np.std(cv_auc)\n",
    "std_tpr = np.std(tpr_list, axis=0)   \n",
    "tpr_upper = np.minimum(mean_tpr + std_tpr, 1)\n",
    "tpr_lower = np.maximum(mean_tpr - std_tpr, 0)\n",
    "\n",
    "# Plot curves\n",
    "ax.fill_between(mean_fpr, tpr_lower, tpr_upper, color='grey', alpha=.5,\n",
    "                label=r'$\\pm$ 1 std. dev.')\n",
    "\n",
    "ax.plot(mean_fpr, mean_tpr, color='k',\n",
    "        label=r'Mean ROC (AUC = %0.2f $\\pm$ %0.2f)' % (mean_auc, std_auc),\n",
    "        lw=2, alpha=1)\n",
    "\n",
    "\n",
    "# Random benchmark\n",
    "ax.plot([0, 1], [0, 1], linestyle='--', lw=2, color='k',\n",
    "        label='Chance', alpha=.8)\n",
    "\n",
    "plt.show()"
   ]
  },
  {
   "cell_type": "code",
   "execution_count": null,
   "metadata": {},
   "outputs": [],
   "source": []
  }
 ],
 "metadata": {
  "colab": {
   "collapsed_sections": [],
   "name": "6_nb_model_assessment_revision.ipynb",
   "provenance": [],
   "toc_visible": true
  },
  "kernelspec": {
   "display_name": "Python 3",
   "language": "python",
   "name": "python3"
  },
  "language_info": {
   "codemirror_mode": {
    "name": "ipython",
    "version": 3
   },
   "file_extension": ".py",
   "mimetype": "text/x-python",
   "name": "python",
   "nbconvert_exporter": "python",
   "pygments_lexer": "ipython3",
   "version": "3.8.5"
  }
 },
 "nbformat": 4,
 "nbformat_minor": 4
}
