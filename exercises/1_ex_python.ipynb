{
 "cells": [
  {
   "cell_type": "markdown",
   "metadata": {},
   "source": [
    "[![Open In Colab](https://colab.research.google.com/assets/colab-badge.svg)](https://colab.research.google.com/github/Humboldt-WI/bads/blob/master/exercises/1_ex_python.ipynb) "
   ]
  },
  {
   "cell_type": "markdown",
   "metadata": {},
   "source": [
    "# Exercises on Python programming\n",
    "We covered a lot of concepts in the first [tutorial on Python programming](https://github.com/Humboldt-WI/bads/blob/master/tutorials/1_nb_python_intro.ipynb). Solving the exercises allows you to test your familiarity with these concepts.  "
   ]
  },
  {
   "cell_type": "markdown",
   "metadata": {},
   "source": [
    "## Variables, assignments, and comparisons"
   ]
  },
  {
   "cell_type": "markdown",
   "metadata": {},
   "source": [
    "1. Create two variables $a$ and $b$ and assign values of $3$ and $4.5$."
   ]
  },
  {
   "cell_type": "code",
   "execution_count": 1,
   "metadata": {},
   "outputs": [
    {
     "name": "stdout",
     "output_type": "stream",
     "text": [
      "a = 3 ; b = 4.5\n"
     ]
    }
   ],
   "source": [
    "a,b = 3,4.5\n",
    "print('a =',a,';','b =',b)"
   ]
  },
  {
   "cell_type": "markdown",
   "metadata": {},
   "source": [
    "2. Query the type of variable $a$."
   ]
  },
  {
   "cell_type": "code",
   "execution_count": 3,
   "metadata": {},
   "outputs": [
    {
     "data": {
      "text/plain": [
       "int"
      ]
     },
     "execution_count": 3,
     "metadata": {},
     "output_type": "execute_result"
    }
   ],
   "source": [
    "type(a)"
   ]
  },
  {
   "cell_type": "markdown",
   "metadata": {},
   "source": [
    "3. Check whether variable $b$ is a text variable."
   ]
  },
  {
   "cell_type": "code",
   "execution_count": 4,
   "metadata": {},
   "outputs": [
    {
     "name": "stdout",
     "output_type": "stream",
     "text": [
      "False\n"
     ]
    }
   ],
   "source": [
    "print(isinstance(b,str))"
   ]
  },
  {
   "cell_type": "markdown",
   "metadata": {},
   "source": [
    "4. Calculate $a^2 + \\frac{1}{b}$, $\\sqrt{a*b}$, and $log_2(a)$."
   ]
  },
  {
   "cell_type": "code",
   "execution_count": 6,
   "metadata": {},
   "outputs": [
    {
     "name": "stdout",
     "output_type": "stream",
     "text": [
      "9.222222222222221 3.6742346141747673 1.584962500721156\n"
     ]
    }
   ],
   "source": [
    "import math\n",
    "print(a**2+1/b, pow(a*b,0.5), math.log2(a))"
   ]
  },
  {
   "cell_type": "markdown",
   "metadata": {},
   "source": [
    "## Matrix algebra\n",
    "Create three additional variables as follows:\n",
    "\n",
    " $$ A = \\left( \\begin{matrix} 1 & 2 & 3 \\\\ 4 & 5 & 6 \\\\ 7 & 8 & 10 \\end{matrix} \\right) \\quad\n",
    "  B = \\left( \\begin{matrix} 1 & 4 & 7 \\\\ 2 & 5 & 8 \\\\ 3 & 6 & 9 \\end{matrix} \\right)  \\quad\n",
    "  y = \\left( \\begin{matrix} 1 \\\\ 2 \\\\ 3 \\end{matrix} \\right) $$\n",
    "\n",
    "Perform the following operations. Note that mathematical operators like `*` might not behave in the way you need it. Wasn't there a powerful library for all sorts of numerical computations including classic linear algebra?\n",
    "\n",
    "Calculate  \n",
    "\n",
    "  1. $a*A$"
   ]
  },
  {
   "cell_type": "code",
   "execution_count": 14,
   "metadata": {},
   "outputs": [
    {
     "name": "stdout",
     "output_type": "stream",
     "text": [
      "a = 3\n",
      "A =\n",
      " [[ 1  2  3]\n",
      " [ 4  5  6]\n",
      " [ 7  8 10]]\n",
      "a * A =\n",
      " [[ 3  6  9]\n",
      " [12 15 18]\n",
      " [21 24 30]]\n"
     ]
    }
   ],
   "source": [
    "#The main Python package for linear algebra is the SciPy subpackage scipy.linalg which builds on NumPy\n",
    "import numpy as np\n",
    "import scipy.linalg as la\n",
    "\n",
    "print('a =',a)\n",
    "\n",
    "A = np.array([[1,2,3],[4,5,6],[7,8,10]])\n",
    "print('A =\\n',A)\n",
    "\n",
    "print('a * A =\\n',a*A)"
   ]
  },
  {
   "cell_type": "markdown",
   "metadata": {},
   "source": [
    "  2. $A*B$"
   ]
  },
  {
   "cell_type": "code",
   "execution_count": 17,
   "metadata": {},
   "outputs": [
    {
     "name": "stdout",
     "output_type": "stream",
     "text": [
      "A =\n",
      " [[ 1  2  3]\n",
      " [ 4  5  6]\n",
      " [ 7  8 10]]\n",
      "B =\n",
      " [[1 4 7]\n",
      " [2 5 8]\n",
      " [3 6 9]]\n",
      "A * B =\n",
      " [[ 14  32  50]\n",
      " [ 32  77 122]\n",
      " [ 53 128 203]]\n"
     ]
    }
   ],
   "source": [
    "print('A =\\n',A)\n",
    "\n",
    "B = np.array([[1,4,7],[2,5,8],[3,6,9]])\n",
    "print('B =\\n',B)\n",
    "\n",
    "print('A * B =\\n',A@B)"
   ]
  },
  {
   "cell_type": "markdown",
   "metadata": {},
   "source": [
    "  3. The inverse of matrix $A$ and store the result in a variable $invA$. Any ideas how to get Python to invert a matrix? Hint: NumPy is your friend.  "
   ]
  },
  {
   "cell_type": "code",
   "execution_count": 22,
   "metadata": {},
   "outputs": [
    {
     "name": "stdout",
     "output_type": "stream",
     "text": [
      "The inverse of matrix  𝐴 is\n",
      " [[-0.66666667 -1.33333333  1.        ]\n",
      " [-0.66666667  3.66666667 -2.        ]\n",
      " [ 1.         -2.          1.        ]]\n"
     ]
    }
   ],
   "source": [
    "invA = la.inv(A)\n",
    "print('The inverse of matrix  𝐴 is\\n',invA)"
   ]
  },
  {
   "cell_type": "markdown",
   "metadata": {},
   "source": [
    "  4. Multiply $A$ and $invA$ and verify that the result is the identity matrix (i.e. only 1s on the diagonal). You'll probably find that it isn't, because computers usually make very small rounding error when handling real numbers. The reason is interesting, but you'll have to look it up if you're interested."
   ]
  },
  {
   "cell_type": "code",
   "execution_count": 23,
   "metadata": {},
   "outputs": [
    {
     "name": "stdout",
     "output_type": "stream",
     "text": [
      "[[ 1.00000000e+00 -4.44089210e-16 -1.11022302e-16]\n",
      " [ 1.33226763e-15  1.00000000e+00 -2.22044605e-16]\n",
      " [ 2.22044605e-15 -2.66453526e-15  1.00000000e+00]]\n"
     ]
    }
   ],
   "source": [
    "print(A @ invA)"
   ]
  },
  {
   "cell_type": "markdown",
   "metadata": {},
   "source": [
    "  5. The transpose of matrix $B$"
   ]
  },
  {
   "cell_type": "code",
   "execution_count": 24,
   "metadata": {},
   "outputs": [
    {
     "name": "stdout",
     "output_type": "stream",
     "text": [
      "The transpose of matrix  𝐵 is\n",
      " [[1 2 3]\n",
      " [4 5 6]\n",
      " [7 8 9]]\n"
     ]
    }
   ],
   "source": [
    "tB = B.T\n",
    "print('The transpose of matrix  𝐵 is\\n',tB)"
   ]
  },
  {
   "cell_type": "markdown",
   "metadata": {},
   "source": [
    "  6. Fill the first row of matrix $B$ with ones"
   ]
  },
  {
   "cell_type": "code",
   "execution_count": 29,
   "metadata": {},
   "outputs": [
    {
     "data": {
      "text/plain": [
       "array([[1, 1, 1],\n",
       "       [2, 5, 8],\n",
       "       [3, 6, 9]])"
      ]
     },
     "execution_count": 29,
     "metadata": {},
     "output_type": "execute_result"
    }
   ],
   "source": [
    "B[0,:] = [1,1,1]\n",
    "print(B)"
   ]
  },
  {
   "cell_type": "markdown",
   "metadata": {},
   "source": [
    "  7. Calculate the ordinary least squares estimator $\\beta$ (i.e. a standard regression) \n",
    "$$ \\beta = (A^{\\top}A)^{-1}A^{\\top} y $$ Run a web search for \"Python matrix transpose\" to get help on how to transpose a matrix. "
   ]
  },
  {
   "cell_type": "code",
   "execution_count": 36,
   "metadata": {},
   "outputs": [
    {
     "name": "stdout",
     "output_type": "stream",
     "text": [
      "y = [1 2 3]\n",
      "the ordinary least squares estimator  𝛽 = [-3.33333333e-01  6.66666667e-01 -1.15463195e-14]\n"
     ]
    }
   ],
   "source": [
    "y = np.array([1,2,3]).T\n",
    "print('y =',y)\n",
    "beta = la.inv(A.T @ A) @ A.T @y\n",
    "print('the ordinary least squares estimator  𝛽 =',beta)"
   ]
  },
  {
   "cell_type": "markdown",
   "metadata": {},
   "source": [
    "## Indexing\n",
    "1. Look at values of variables $A$, $B$, and $y$ from the last exercise"
   ]
  },
  {
   "cell_type": "code",
   "execution_count": 38,
   "metadata": {},
   "outputs": [
    {
     "name": "stdout",
     "output_type": "stream",
     "text": [
      "A =\n",
      " [[ 1  2  3]\n",
      " [ 4  5  6]\n",
      " [ 7  8 10]]\n",
      "B =\n",
      " [[1 1 1]\n",
      " [2 5 8]\n",
      " [3 6 9]]\n",
      "y = [1 2 3]\n"
     ]
    }
   ],
   "source": [
    "print('A =\\n',A)\n",
    "print('B =\\n',B)\n",
    "print('y =',y)"
   ]
  },
  {
   "cell_type": "markdown",
   "metadata": {},
   "source": [
    "2. Access the second element in the third row of $A$ and the first element in the second row of $B$, and compute their product"
   ]
  },
  {
   "cell_type": "code",
   "execution_count": 50,
   "metadata": {},
   "outputs": [
    {
     "name": "stdout",
     "output_type": "stream",
     "text": [
      "8 * 2 = 16\n"
     ]
    }
   ],
   "source": [
    "print(A[2,1],'*',B[1,0],'=',A[2,1] * B[1,0])"
   ]
  },
  {
   "cell_type": "markdown",
   "metadata": {},
   "source": [
    "3. Multiply the first row of $A$ and the third column of $B$"
   ]
  },
  {
   "cell_type": "code",
   "execution_count": 52,
   "metadata": {},
   "outputs": [
    {
     "name": "stdout",
     "output_type": "stream",
     "text": [
      "[1 2 3] * [1 8 9] T = 44\n"
     ]
    }
   ],
   "source": [
    "print(A[0,:],'*',B[:,2],'T =',A[0,:] @ B[:,2])"
   ]
  },
  {
   "cell_type": "markdown",
   "metadata": {},
   "source": [
    "4. Access the elements of y that are greater than 1 (without looking up their position manually)"
   ]
  },
  {
   "cell_type": "code",
   "execution_count": 55,
   "metadata": {},
   "outputs": [
    {
     "name": "stdout",
     "output_type": "stream",
     "text": [
      "the elements of y that are greater than 1 are: [2 3]\n"
     ]
    }
   ],
   "source": [
    "print('the elements of y that are greater than 1 are:',y[y>1])"
   ]
  },
  {
   "cell_type": "markdown",
   "metadata": {},
   "source": [
    "5. Access the elements of A in the second column, for which the values in the first column are greater or equal to 4)"
   ]
  },
  {
   "cell_type": "code",
   "execution_count": 56,
   "metadata": {},
   "outputs": [
    {
     "name": "stdout",
     "output_type": "stream",
     "text": [
      "the elements of A in the second column, for which the values in the first column are greater or equal to 4 is: [5 8]\n"
     ]
    }
   ],
   "source": [
    "print('the elements of A in the second column, for which the values in the first column are greater or equal to 4 is:',\n",
    "      A[:,1][A[:,0]>=4])"
   ]
  },
  {
   "cell_type": "markdown",
   "metadata": {},
   "source": [
    "6. Access the 4th row of A. If this returns an error message, use Google to investigate the problem and find out what went wrong."
   ]
  },
  {
   "cell_type": "code",
   "execution_count": 1,
   "metadata": {},
   "outputs": [
    {
     "ename": "NameError",
     "evalue": "name 'A' is not defined",
     "output_type": "error",
     "traceback": [
      "\u001b[0;31m---------------------------------------------------------------------------\u001b[0m",
      "\u001b[0;31mNameError\u001b[0m                                 Traceback (most recent call last)",
      "\u001b[0;32m<ipython-input-1-252d02c7ee09>\u001b[0m in \u001b[0;36m<module>\u001b[0;34m\u001b[0m\n\u001b[0;32m----> 1\u001b[0;31m \u001b[0mprint\u001b[0m\u001b[0;34m(\u001b[0m\u001b[0mA\u001b[0m\u001b[0;34m[\u001b[0m\u001b[0;36m3\u001b[0m\u001b[0;34m,\u001b[0m\u001b[0;34m:\u001b[0m\u001b[0;34m]\u001b[0m\u001b[0;34m)\u001b[0m\u001b[0;34m\u001b[0m\u001b[0;34m\u001b[0m\u001b[0m\n\u001b[0m",
      "\u001b[0;31mNameError\u001b[0m: name 'A' is not defined"
     ]
    }
   ],
   "source": [
    "print(A[3,:])"
   ]
  },
  {
   "cell_type": "markdown",
   "metadata": {},
   "source": [
    "## Custom functions\n",
    "For many statistical applications it is practical to standardize variable values. One way to standardize is *centering and scaling*. In simple words, we make the variables comparable by reducing them to the same scale.\n",
    "\n",
    "Start with implementing a custom function. Your function should take an argument **x**. To keep things simple, we expect x to always be a numeric vector (and not text or a matrix, for example). In the body of the function, calculate the mean and standard deviation of **x**. Store the results in variables  **mu** and **std**, respectively. Then for each element in the vector, substract the mean and divide by the standard deviation.\n",
    "$$ x_{new} = \\frac{x-\\mu}{std}$$\n",
    "Make sure your functions **returns** the standardized vector (i.e., $x_new$ in the equation) as result. You might want to import `NumPy` for calculating the mean and standard deviation."
   ]
  },
  {
   "cell_type": "code",
   "execution_count": 59,
   "metadata": {},
   "outputs": [],
   "source": [
    "def custom_function(x):\n",
    "    mu = np.mean(x)\n",
    "    std = np.std(x)\n",
    "    x_new = (x-mu)/std\n",
    "    return x_new"
   ]
  },
  {
   "cell_type": "markdown",
   "metadata": {},
   "source": [
    "You should always test your functions. Create a vector **a** with the elements (-100, -25, -10, 0, 10, 25, 100) and check if your function produces the correct result.     "
   ]
  },
  {
   "cell_type": "code",
   "execution_count": 60,
   "metadata": {},
   "outputs": [
    {
     "data": {
      "text/plain": [
       "array([-1.80648921, -0.4516223 , -0.18064892,  0.        ,  0.18064892,\n",
       "        0.4516223 ,  1.80648921])"
      ]
     },
     "execution_count": 60,
     "metadata": {},
     "output_type": "execute_result"
    }
   ],
   "source": [
    "a = np.array([-100, -25, -10, 0, 10, 25, 100])\n",
    "custom_function(a)"
   ]
  },
  {
   "cell_type": "markdown",
   "metadata": {},
   "source": [
    "*Optional*: Create a vector **b** with elements (\"1\", \"2\", \"3\") and check the function. Let's include a simple check in the function and give feedback. Before doing any calculations, use `if()` and `type()` to check if the input is a numeric vector. There are many ways to code the condition *x is numeric* in Python. Run a quick web search and use a simple approach. If the input is not numeric, skip the computations and print a message \"input not numeric\"."
   ]
  },
  {
   "cell_type": "code",
   "execution_count": 131,
   "metadata": {},
   "outputs": [
    {
     "name": "stdout",
     "output_type": "stream",
     "text": [
      "input not numeric\n"
     ]
    }
   ],
   "source": [
    "from numbers import Number\n",
    "b = np.array([\"1\", \"2\", \"3\"])\n",
    "\n",
    "def is_numeric(x):\n",
    "    return isinstance(x, Number)\n",
    "\n",
    "def custom_function_new(x):\n",
    "    if False in list(map(is_numeric,b)):\n",
    "        print('input not numeric')\n",
    "    else:\n",
    "        mu = np.mean(b)\n",
    "        std = np.std(b)\n",
    "        x_new = (b-mu)/std\n",
    "        return x_new\n",
    "\n",
    "custom_function_new(b)"
   ]
  },
  {
   "cell_type": "markdown",
   "metadata": {},
   "source": [
    "## Data structures \n",
    "Say you want to keep track of the members of the four houses of the famous Hogwarts School of Witchcraft and Wizardry. What might be a suitable data structure. We create a dictionary named **hogwarts** and use the names of the houses as keys. Then, the values associated with those keys could be any type that supports storing a set of strings, i.e., to store the names of the members. Draw on your knowledge of Python dictionaries and list to implement such a data structure. Populate the dictionary with the following data, and feel free to add more characters if you wish. \n",
    "\n",
    "- Gryffindor: I'm sure you know many members of that house \n",
    "- Hufflepuff: notable members include Newt Scamander, Cedric Diggory and Nymphadora Tonks\n",
    "- Ravenclaw: here we've got, e.g. Luna Lovegood, Gilderoy Lockhart and Filius Flitwick\n",
    "- Slytherin: Draco Malfoy, Vincent Crabbe, Gregory Goyle, and of course the one that must not be named"
   ]
  },
  {
   "cell_type": "code",
   "execution_count": 17,
   "metadata": {},
   "outputs": [
    {
     "name": "stdout",
     "output_type": "stream",
     "text": [
      "dict_keys(['Gryffindor', 'Hufflepuff', 'Ravenclaw', 'Slytherin'])\n",
      "dict_values([['Harry Potter', 'Ron Weasley', 'Hermione Granger', 'Ginny Weasley'], ['Nymphadora Tonks', 'Pomona Sprout', 'Newton Scamander', 'Theseus Scamander', 'Cedric Diggory'], ['Luna Lovegood', 'Myrtle Warren', 'Penelope Clearwater', 'Cho Chang'], ['Tom Riddle', 'Draco Malfoy', 'Vincent Crabbe', 'Gregory Goyle', 'Pansy Parkinson']])\n",
      "Harry Potter\n"
     ]
    }
   ],
   "source": [
    "hogwarts = {'Gryffindor' : ['Harry Potter','Ron Weasley','Hermione Granger','Ginny Weasley'],\n",
    "           'Hufflepuff' : ['Nymphadora Tonks','Pomona Sprout','Newton Scamander','Theseus Scamander','Cedric Diggory'],\n",
    "           'Ravenclaw' : ['Luna Lovegood','Myrtle Warren','Penelope Clearwater','Cho Chang'],\n",
    "           'Slytherin' : ['Tom Riddle','Draco Malfoy','Vincent Crabbe','Gregory Goyle','Pansy Parkinson']}\n",
    "print(hogwarts.keys())\n",
    "\n",
    "print(hogwarts.values())\n",
    "\n",
    "print(hogwarts['Gryffindor'][0])"
   ]
  },
  {
   "cell_type": "markdown",
   "metadata": {},
   "source": [
    "Dictionaries are really useful. Still our above data structure is limited. We can only store the name of a witch or wizard. Wouldn't it be cool to be able to store more information, something like her/his favored charm, best friend, pet, etc. \n",
    "\n",
    "Think about how we could realize this functionality. Well, we could create yet another dictionary in which we use a witch's/wizard's name as key and as value some some other data structure in which we can store all the details we like. To our knowledge, the names of witches / wizards are unique in the Harry Potter universe, so that names could serve as (unique) keys; nerd alert. Still a dictionary of dictionaries sounds pretty complicated. In fact, the task we described above is a perfect use case of customer classes. They allow us to store any piece of information about a person at one place.\n",
    "\n",
    "Create a custom class wizard that facilitates storing the following properties:\n",
    "- First name\n",
    "- Last name\n",
    "- Pet\n",
    "- Pet name\n",
    "- Patronus shape\n",
    "\n",
    "\n",
    "Also implement a method `tell_pet()`that prints an output of the following format:\n",
    "*\"Harry Potter's owl is called Hedwig.\"* \n",
    "\n",
    "Implement one more  method `expecto_patronum()`. Calling that method for Harry would produce the output (print):\n",
    "*\"A stag appears.\"*"
   ]
  },
  {
   "cell_type": "code",
   "execution_count": 27,
   "metadata": {},
   "outputs": [
    {
     "name": "stdout",
     "output_type": "stream",
     "text": [
      "Harry Potter 's owl is called Hedwig .\n",
      "A stag appears.\n"
     ]
    }
   ],
   "source": [
    "class wizard():\n",
    "    def __init__(self, First_name, Last_name, Pet, Pet_name, Patronus_shape=None):\n",
    "        self.First_name = First_name\n",
    "        self.Last_name = Last_name\n",
    "        self.Pet = Pet\n",
    "        self.Pet_name = Pet_name\n",
    "        self.Patronus_shape = Patronus_shape\n",
    "    \n",
    "    def tell_pet(self):\n",
    "        print(self.First_name, self.Last_name,\"'s\", self.Pet,\"is called\", self.Pet_name,\".\")\n",
    "        \n",
    "    def expecto_patronum(self):\n",
    "        print(self.Patronus_shape, \"appears.\")\n",
    "\n",
    "hogwarts['Gryffindor'][0] = wizard('Harry','Potter','owl','Hedwig','A stag')\n",
    "hogwarts['Gryffindor'][0].tell_pet()\n",
    "hogwarts['Gryffindor'][0].expecto_patronum()"
   ]
  },
  {
   "cell_type": "markdown",
   "metadata": {},
   "source": [
    "Update your dictionary with schools and their members. Instead of storing a list of names as values, your new dictionary should store a list of instances of the class wizard. Note that you need to create these instances first. So you need to create an instance of class wizard for Harry, another one for Ron, Malfoy, etc. In case your knowledge of the Potter universe is a bit shaky, just invent the data you need. Just in case, [here is a ittle refresher of the expecto patronum spell](https://www.insider.com/harry-potter-characters-patronus-2018-11)."
   ]
  },
  {
   "cell_type": "code",
   "execution_count": 28,
   "metadata": {},
   "outputs": [
    {
     "name": "stdout",
     "output_type": "stream",
     "text": [
      "Luna Lovegood 's thestral foal is called Claudius .\n",
      "A hare appears.\n"
     ]
    }
   ],
   "source": [
    "hogwarts['Ravenclaw'][0] = wizard('Luna','Lovegood','thestral foal','Claudius','A hare')\n",
    "hogwarts['Ravenclaw'][0].tell_pet()\n",
    "hogwarts['Ravenclaw'][0].expecto_patronum()"
   ]
  },
  {
   "cell_type": "markdown",
   "metadata": {},
   "source": [
    "## Well done!!!"
   ]
  }
 ],
 "metadata": {
  "kernelspec": {
   "display_name": "Python 3",
   "language": "python",
   "name": "python3"
  },
  "language_info": {
   "codemirror_mode": {
    "name": "ipython",
    "version": 3
   },
   "file_extension": ".py",
   "mimetype": "text/x-python",
   "name": "python",
   "nbconvert_exporter": "python",
   "pygments_lexer": "ipython3",
   "version": "3.8.3"
  }
 },
 "nbformat": 4,
 "nbformat_minor": 4
}
