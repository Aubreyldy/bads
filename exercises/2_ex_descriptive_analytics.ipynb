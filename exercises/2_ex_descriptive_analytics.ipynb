{
 "cells": [
  {
   "cell_type": "markdown",
   "metadata": {},
   "source": [
    "[![Open In Colab](https://colab.research.google.com/assets/colab-badge.svg)](https://colab.research.google.com/github/Humboldt-WI/bads/blob/master/exercises/2_ex_descriptive_analytics.ipynb) "
   ]
  },
  {
   "cell_type": "markdown",
   "metadata": {},
   "source": [
    "# BADS Exercise 2 on the foundations of descriptive analytics\n",
    "The second exercise comprises one more task to advance your skills in Python programming. It's main focus is on cluster analysis."
   ]
  },
  {
   "cell_type": "markdown",
   "metadata": {},
   "source": [
    "## 1. Further exercises on Python programming\n",
    "The following exercise tasks revisit some concepts covered in [Tutorial 1 on Python programming](https://github.com/Humboldt-WI/bads/blob/master/tutorials/1_nb_python_intro.ipynb) "
   ]
  },
  {
   "cell_type": "markdown",
   "metadata": {},
   "source": [
    "### Using inbuilt functions and libraries\n",
    "In Python and other programming language, we use inbuilt functions all the time. Libraries like `NumPy` and `Pandas`, which offer a ton of functionality for handling and analyzing data, are the main reason why the Python language is such a good fit for data science. Let's practice our ability to access libraries and use their functions with some concrete tasks.\n",
    "\n",
    "The density of the normal distribution with mean $\\mu$ and variance $\\sigma$ is given as\n",
    "$$f(x | \\mu ,\\sigma ^{2}) = {\\frac {1}{\\sqrt {2\\sigma ^{2}\\pi}}}e^{-{\\frac {(x-\\mu )^{2}}{2\\sigma ^{2}}}}$$\n",
    "\n",
    "Let's create a nice plot of the bell curve that is so famous and characteristic for the normal distribution. Below, we already made sure that relevant libraries are imported. First, define two variables that store the two parameters of the normal distribution; no need to spill out these parameters, right? Next generate some values $x$. Say you want to plot the bell curve for $x \\in \\{-3, 3\\} $. Use the `NumPy` function `linspace()` for this purpose. "
   ]
  },
  {
   "cell_type": "code",
   "execution_count": 12,
   "metadata": {},
   "outputs": [],
   "source": [
    "import matplotlib.pyplot as plt\n",
    "import numpy as np\n",
    "import scipy.stats as stats\n",
    "import math\n",
    "\n",
    "miu = 0\n",
    "sigma = 1\n",
    "n = 100\n",
    "\n",
    "#help(np.linspace)\n",
    "x = np.linspace(-3,3,num=100)\n",
    "\n"
   ]
  },
  {
   "cell_type": "markdown",
   "metadata": {},
   "source": [
    "Then, for each value of $x$, compute the probability that a normally distributed random variable would be arbitrarily close to that value. To calculate the probability density of the normal distribution, you can use the function `norm.pdf`. The function is part of the *stats models library*, which we import below. So you can write something like `stats.norm.pdf(...)` where ... stands for the arguments that the function requires. Make sure to store the results of the computation in a variable **nvValues**."
   ]
  },
  {
   "cell_type": "code",
   "execution_count": 13,
   "metadata": {},
   "outputs": [],
   "source": [
    "#help(stats.norm.pdf)\n",
    "nvValues = stats.norm.pdf(x,loc = miu, scale = sigma^2)\n",
    "\n",
    "#nvValues"
   ]
  },
  {
   "cell_type": "markdown",
   "metadata": {},
   "source": [
    "We are now ready to plot. Create a simple graph of **nvValues** against **x** using the `plot()`function. Let's say you want your line to be in red color. Use the help and web search to find out how to plot a red line. Also make sure to label your axes; remember: never create a plot without axis labels."
   ]
  },
  {
   "cell_type": "code",
   "execution_count": 14,
   "metadata": {},
   "outputs": [
    {
     "data": {
      "image/png": "[encoded data removed]",
      "text/plain": [
       "<Figure size 432x288 with 1 Axes>"
      ]
     },
     "metadata": {
      "needs_background": "light"
     },
     "output_type": "display_data"
    }
   ],
   "source": [
    "#help(plt.plot)\n",
    "\n",
    "plt.plot(x,nvValues,color='red')\n",
    "plt.title('Density of the normal distribution')\n",
    "plt.xlabel('x∈{−3,3}')\n",
    "plt.ylabel('Probability')\n",
    "plt.show()\n"
   ]
  },
  {
   "cell_type": "markdown",
   "metadata": {},
   "source": [
    "## 2. Exercises on descriptive analytics\n",
    "The following exercise tasks revisit some concepts covered in [Tutorial 2 on descriptive analytics](https://github.com/Humboldt-WI/bads/blob/master/tutorials/2_nb_descriptive_analytics.ipynb). \n",
    "\n",
    "### 2.1 Data generation\n",
    "We want to revisit kMeans and need some data for this purpose. Make use of the function `make_blobs()`, which is part of the `sklearn` library to generate some artificial data. Say we want to **create data with 4 clusters**. Make sure to configure the `make_blobs()` function appropriately. "
   ]
  },
  {
   "cell_type": "code",
   "execution_count": 15,
   "metadata": {},
   "outputs": [],
   "source": [
    "# Generate data for clustering\n",
    "import numpy as np\n",
    "import matplotlib.pyplot as plt\n",
    "import pandas as pd\n",
    "from sklearn.datasets import make_blobs\n",
    "\n",
    "np.random.seed(88)\n",
    "\n",
    "n = 500 # no. samples\n",
    "centers = [(-5, 3), (-5, -3), (5, 3), (5, -3)]  # centers of the two Gaussian\n",
    "std = 1  # standard deviaton\n",
    "\n",
    "# Call the function and obtain your data\n",
    "X,y,c = make_blobs(n_samples=n, centers=centers, cluster_std=std,return_centers=True)\n",
    "\n",
    "#X.shape, y.shape, c.shape # ensure shape is as expected\n",
    "#y[:50]\n",
    "#c"
   ]
  },
  {
   "cell_type": "markdown",
   "metadata": {},
   "source": [
    "## 2.2 kMeans\n",
    "The second tutorial provided a *from scratch implementation* of the kMeans algorithm. Go back to the tutorial and copy/paste the relevant parts of the code into this notebook. This will allow you to run the algorithm here."
   ]
  },
  {
   "cell_type": "code",
   "execution_count": 16,
   "metadata": {},
   "outputs": [],
   "source": [
    "# From-scratch implementation of kMeans \n",
    "\n",
    "def euclidean_distance(a, b):\n",
    "    return np.sqrt(np.sum((a - b)**2)) # other distance measures also possible\n",
    "\n",
    "def label_cluster(n_samples, clusters):\n",
    "    \"\"\"each sample will get the label of the cluster it was assigned to\"\"\"\n",
    "    labels = np.empty(n_samples) # creates empty array as long as samples for future labels\n",
    "\n",
    "    for cluster_idx, cluster in enumerate(clusters):\n",
    "        for sample_index in cluster:\n",
    "            labels[sample_index] = cluster_idx # assign labels to each sample\n",
    "    return labels\n",
    "\n",
    "def create_clusters(K, X, centroids):\n",
    "    \"\"\"Assign the samples to the closest centroids to create clusters\"\"\"\n",
    "    clusters = [[] for _ in range(K)] # creates a list of K number of lists\n",
    "    for idx, sample in enumerate(X):\n",
    "        centroid_idx = find_closest_centroid(sample, centroids) # find closest centroid for each sample\n",
    "        clusters[centroid_idx].append(idx) # create index list of closest centroids\n",
    "    return clusters\n",
    "\n",
    "def find_closest_centroid(sample, centroids):\n",
    "    \"\"\"Distance from each sample to every centroid\"\"\"\n",
    "    distances = [euclidean_distance(sample, point) for point in centroids] # calculate distance from each sample to each centroid\n",
    "    closest_index = np.argmin(distances) # take closest centroid (one with minimal distance)\n",
    "    return closest_index\n",
    "\n",
    "def update_centroids(X, K, n_features, clusters):\n",
    "    \"\"\"Assign mean value of cluster features to each centroid\"\"\"\n",
    "    centroids = np.zeros((K, n_features))\n",
    "    for cluster_idx, cluster in enumerate(clusters):\n",
    "        cluster_mean = np.mean(X[cluster,:], axis=0) # find new centroid by finding mean of all points assigned to centroid\n",
    "        centroids[cluster_idx] = cluster_mean # collect all centroids\n",
    "    return centroids\n",
    "\n",
    "def is_converged(centroids_old, centroids, K):\n",
    "    \"\"\"Check if centroids have changed since last iteration\"\"\"\n",
    "    distances = [euclidean_distance(centroids_old[i], centroids[i]) for i in range(K)] # check distance between old and new centroids\n",
    "    return sum(distances) == 0 # return Boolean indicating whether centroids are the same as before or not\n",
    "\n",
    "def KMeans_from_scratch(X, K, max_iters):\n",
    "    \"\"\"Choose a random set of centroids then optimise using above functions\"\"\"\n",
    "    n_samples, n_features = X.shape\n",
    "    \n",
    "    # Initialization \n",
    "    random_sample_idx = np.random.choice(n_samples, K, replace=False) # take random sample points to be initial clusters\n",
    "    centroids = [X[idx] for idx in random_sample_idx] # label these points as centroids\n",
    "\n",
    "    iteration_num = 0 # initialize iteration tracker\n",
    "\n",
    "    # Optimization\n",
    "    for iteration in range(max_iters):\n",
    "        \n",
    "        iteration_num += 1 # track iterations required\n",
    "\n",
    "        clusters = create_clusters(K, X, centroids) # assignment to closest centroids (cluster creation)\n",
    "\n",
    "        centroids_old = centroids # archive previous centroids\n",
    "        centroids = update_centroids(X, K, n_features, clusters) # Updating centroids \n",
    "        \n",
    "        # Convergence Confirmation\n",
    "        if is_converged(centroids_old, centroids, K): # check if last iteration's centroids were the same as current iteration\n",
    "            labels = label_cluster(n_samples, clusters)\n",
    "            dist = [euclidean_distance(X[row_num], centroids[int(labels[row_num])]) for row_num in range(X.shape[0])] # get distance from each point to its centroid\n",
    "            total_dist = np.sum(np.square(dist)) # total distance calculated as sum of squares\n",
    "            break # exit loop since there was no change since last iteration\n",
    "\n",
    "    # Classify samples as the index of their clusters\n",
    "    return labels, iteration_num, K, centroids, total_dist"
   ]
  },
  {
   "cell_type": "markdown",
   "metadata": {},
   "source": [
    "Test the implementation by clustering the data created in 2.1 above. We know the data has 4 clusters, so feel free to set $k=4$. "
   ]
  },
  {
   "cell_type": "code",
   "execution_count": 17,
   "metadata": {},
   "outputs": [
    {
     "name": "stdout",
     "output_type": "stream",
     "text": [
      "No. Iterations: 4 , No. Centres: 4 , Total Squared Distance 975.9\n",
      "Centroid Coordinates: [[ 5.26709863  3.10485732]\n",
      " [-4.87206772 -2.96119199]\n",
      " [-5.03797103  2.92922372]\n",
      " [ 5.13961914 -2.94559032]]\n",
      "[[-5  3]\n",
      " [-5 -3]\n",
      " [ 5  3]\n",
      " [ 5 -3]]\n",
      "Counter({0.0: 125, 1.0: 125, 2.0: 125, 3.0: 125})\n",
      "Counter({2: 125, 1: 125, 0: 125, 3: 125})\n"
     ]
    }
   ],
   "source": [
    "# Clustering of the artificial data\n",
    "result = KMeans_from_scratch(X, K=4, max_iters=100)\n",
    "#result\n",
    "\n",
    "print(\"No. Iterations:\", result[1], \", No. Centres:\", result[2], \", Total Squared Distance {:.4}\".format(result[4]))\n",
    "\n",
    "print(\"Centroid Coordinates:\", result[3])\n",
    "\n",
    "print(c)\n",
    "\n",
    "from collections import Counter\n",
    "#help(Counter)\n",
    "print(Counter(result[0]))\n",
    "print(Counter(y))"
   ]
  },
  {
   "cell_type": "markdown",
   "metadata": {},
   "source": [
    "## 2.3 Distance function\n",
    "In the lecture, we argued that clustering methods and kMeans are versatile in that the support various distance measures. Let's convince ourself that this is true. Your task is to write a custom function that calculates **cosine similarity**. You can look up the formula of the cosine similarity in the lecture slides of chapter 2, or from the Internet. "
   ]
  },
  {
   "cell_type": "code",
   "execution_count": 18,
   "metadata": {},
   "outputs": [],
   "source": [
    "def cosine_sim(x,y):\n",
    "    num = x.dot(y.T)\n",
    "    denom = np.linalg.norm(x) * np.linalg.norm(y)\n",
    "    return num / denom\n"
   ]
  },
  {
   "cell_type": "markdown",
   "metadata": {},
   "source": [
    "Next thing to do is to change the above from scratch implementation of the kMeans algorithm such that it uses your cosine similarity function for clustering the data. It might be better to copy/past the full kMeans code one more time because this will allow you to have both versions, with Euclidean distance and cosine similarity, in the notebook. This makes it easier to re-run the clustering in case you need or want to."
   ]
  },
  {
   "cell_type": "code",
   "execution_count": 20,
   "metadata": {},
   "outputs": [],
   "source": [
    "# kMeans with cosine similarity\n",
    "\n",
    "def label_cluster_cos(n_samples, clusters):\n",
    "    \"\"\"each sample will get the label of the cluster it was assigned to\"\"\"\n",
    "    labels = np.empty(n_samples) # creates empty array as long as samples for future labels\n",
    "\n",
    "    for cluster_idx, cluster in enumerate(clusters):\n",
    "        for sample_index in cluster:\n",
    "            labels[sample_index] = cluster_idx # assign labels to each sample\n",
    "    return labels\n",
    "\n",
    "def create_clusters_cos(K, X, centroids):\n",
    "    \"\"\"Assign the samples to the closest centroids to create clusters\"\"\"\n",
    "    clusters = [[] for _ in range(K)] # creates a list of K number of lists\n",
    "    for idx, sample in enumerate(X):\n",
    "        centroid_idx = find_closest_centroid_cos(sample, centroids) # find closest centroid for each sample\n",
    "        clusters[centroid_idx].append(idx) # create index list of closest centroids\n",
    "    return clusters\n",
    "\n",
    "def find_closest_centroid_cos(sample, centroids):\n",
    "    \"\"\"Distance from each sample to every centroid\"\"\"\n",
    "    distances = [cosine_sim(sample, point) for point in centroids] # calculate distance from each sample to each centroid\n",
    "    closest_index = np.argmin(distances) # take closest centroid (one with minimal distance)\n",
    "    return closest_index\n",
    "\n",
    "def update_centroids_cos(X, K, n_features, clusters):\n",
    "    \"\"\"Assign mean value of cluster features to each centroid\"\"\"\n",
    "    centroids = np.zeros((K, n_features))\n",
    "    for cluster_idx, cluster in enumerate(clusters):\n",
    "        cluster_mean = np.mean(X[cluster,:], axis=0) # find new centroid by finding mean of all points assigned to centroid\n",
    "        centroids[cluster_idx] = cluster_mean # collect all centroids\n",
    "    return centroids\n",
    "\n",
    "def is_converged_cos(centroids_old, centroids, K):\n",
    "    \"\"\"Check if centroids have changed since last iteration\"\"\"\n",
    "    distances = [cosine_sim(centroids_old[i], centroids[i]) for i in range(K)] # check distance between old and new centroids\n",
    "    return sum(distances) == 0 # return Boolean indicating whether centroids are the same as before or not\n",
    "\n",
    "def KMeans_from_scratch_cos(X, K, max_iters):\n",
    "    \"\"\"Choose a random set of centroids then optimise using above functions\"\"\"\n",
    "    n_samples, n_features = X.shape\n",
    "    \n",
    "    # Initialization \n",
    "    random_sample_idx = np.random.choice(n_samples, K, replace=False) # take random sample points to be initial clusters\n",
    "    centroids = [X[idx] for idx in random_sample_idx] # label these points as centroids\n",
    "\n",
    "    iteration_num = 0 # initialize iteration tracker\n",
    "\n",
    "    # Optimization\n",
    "    for iteration in range(max_iters):\n",
    "        \n",
    "        iteration_num += 1 # track iterations required\n",
    "\n",
    "        clusters = create_clusters_cos(K, X, centroids) # assignment to closest centroids (cluster creation)\n",
    "\n",
    "        centroids_old = centroids # archive previous centroids\n",
    "        centroids = update_centroids_cos(X, K, n_features, clusters) # Updating centroids \n",
    "        \n",
    "        # Convergence Confirmation\n",
    "        if is_converged_cos(centroids_old, centroids, K): # check if last iteration's centroids were the same as current iteration\n",
    "            break # exit loop since there was no change since last iteration\n",
    "    \n",
    "    labels = label_cluster_cos(n_samples, clusters)\n",
    "    dist = [cosine_sim(X[row_num], centroids[int(labels[row_num])]) for row_num in range(X.shape[0])] # get distance from each point to its centroid\n",
    "    total_dist = np.sum(np.square(dist)) # total distance calculated as sum of squares\n",
    "    \n",
    "    # Classify samples as the index of their clusters\n",
    "    return labels, iteration_num, K, centroids, total_dist\n"
   ]
  },
  {
   "cell_type": "markdown",
   "metadata": {},
   "source": [
    "## 2.4 New clustering solution\n",
    "The last task on the list is to apply the altered kMeans with cosine similarity to your synthetic data set. Try to come up with a suitable way to compare the results of the two versions of kMeans. It is natural to ask how the cluster solutions differ when using Euclidean distance or cosine similarity. How would you answer that question? Make use of your Python skills to come up with an answer."
   ]
  },
  {
   "cell_type": "code",
   "execution_count": 21,
   "metadata": {},
   "outputs": [
    {
     "data": {
      "text/plain": [
       "(array([0., 3., 0., 1., 1., 1., 0., 1., 0., 1., 2., 1., 1., 1., 2., 2., 0.,\n",
       "        2., 0., 0., 0., 1., 3., 3., 2., 0., 1., 0., 2., 2., 2., 0., 2., 1.,\n",
       "        1., 2., 1., 0., 0., 3., 2., 1., 0., 3., 1., 0., 0., 1., 3., 1., 3.,\n",
       "        1., 2., 3., 3., 1., 2., 3., 0., 1., 3., 2., 2., 0., 1., 2., 1., 1.,\n",
       "        3., 3., 2., 3., 0., 0., 3., 2., 1., 1., 2., 0., 3., 0., 2., 3., 2.,\n",
       "        2., 3., 3., 0., 2., 0., 2., 0., 0., 3., 3., 3., 2., 3., 2., 1., 2.,\n",
       "        2., 3., 0., 0., 1., 3., 3., 2., 2., 2., 2., 2., 0., 3., 0., 3., 0.,\n",
       "        3., 3., 2., 2., 2., 1., 0., 2., 3., 3., 1., 2., 2., 0., 0., 1., 3.,\n",
       "        2., 2., 3., 3., 1., 2., 2., 2., 2., 0., 3., 3., 2., 1., 0., 3., 0.,\n",
       "        1., 2., 2., 3., 2., 1., 0., 3., 3., 2., 2., 1., 3., 2., 3., 0., 0.,\n",
       "        2., 3., 1., 2., 3., 3., 3., 3., 1., 0., 1., 1., 3., 1., 0., 0., 3.,\n",
       "        0., 3., 3., 1., 3., 0., 3., 2., 1., 2., 1., 3., 1., 3., 3., 0., 0.,\n",
       "        0., 1., 2., 2., 0., 3., 0., 0., 2., 3., 0., 2., 0., 1., 0., 0., 2.,\n",
       "        3., 0., 1., 3., 1., 0., 1., 1., 2., 0., 0., 0., 1., 0., 1., 0., 2.,\n",
       "        3., 0., 3., 2., 0., 2., 0., 1., 1., 3., 2., 2., 3., 2., 2., 2., 1.,\n",
       "        2., 2., 0., 1., 0., 2., 1., 2., 2., 0., 1., 3., 3., 1., 2., 1., 1.,\n",
       "        2., 1., 0., 0., 1., 2., 2., 1., 3., 0., 1., 2., 1., 3., 3., 0., 0.,\n",
       "        3., 0., 2., 3., 0., 2., 0., 0., 3., 1., 3., 2., 3., 2., 2., 0., 1.,\n",
       "        0., 3., 3., 3., 1., 3., 1., 2., 0., 2., 0., 2., 1., 3., 2., 3., 1.,\n",
       "        2., 0., 1., 0., 2., 2., 0., 0., 3., 1., 2., 3., 3., 2., 0., 1., 3.,\n",
       "        0., 0., 0., 3., 2., 3., 1., 3., 0., 3., 0., 2., 2., 0., 1., 2., 0.,\n",
       "        1., 2., 2., 1., 3., 2., 1., 0., 0., 0., 1., 2., 1., 0., 0., 3., 0.,\n",
       "        2., 0., 1., 3., 1., 1., 2., 3., 3., 1., 2., 0., 1., 0., 1., 1., 3.,\n",
       "        0., 3., 1., 3., 0., 2., 1., 3., 1., 3., 3., 3., 0., 0., 1., 3., 1.,\n",
       "        1., 3., 2., 3., 3., 1., 3., 1., 0., 2., 2., 3., 1., 0., 2., 0., 2.,\n",
       "        1., 1., 1., 3., 1., 1., 2., 1., 0., 1., 3., 2., 3., 3., 2., 1., 2.,\n",
       "        0., 0., 1., 0., 1., 1., 1., 2., 0., 1., 1., 0., 0., 3., 3., 1., 1.,\n",
       "        0., 3., 0., 0., 2., 0., 3., 2., 2., 0., 3., 1., 1., 1., 3., 3., 1.,\n",
       "        2., 2., 3., 3., 1., 3., 1., 3., 0., 1., 2., 1., 2., 3., 1., 0., 3.,\n",
       "        1., 3., 1., 0., 2., 2., 0.]),\n",
       " 100,\n",
       " 4,\n",
       " array([[ 5.26709863,  3.10485732],\n",
       "        [-5.03797103,  2.92922372],\n",
       "        [ 5.13961914, -2.94559032],\n",
       "        [-4.87206772, -2.96119199]]),\n",
       " 486.3461552258775)"
      ]
     },
     "execution_count": 21,
     "metadata": {},
     "output_type": "execute_result"
    }
   ],
   "source": [
    "# Create cluster solution with the modified kMeans\n",
    "# Clustering of the artificial data\n",
    "result = KMeans_from_scratch_cos(X, K=4, max_iters=100)\n",
    "\n",
    "result\n",
    "\n",
    "#print(\"No. Iterations:\", result[1], \", No. Centres:\", result[2], \", Total Squared Distance {:.4}\".format(result[4]))\n",
    "\n",
    "#print(\"Centroid Coordinates:\", result[3])\n",
    "\n",
    "#print(c)\n",
    "\n",
    "#print(Counter(result[0]))\n",
    "#print(Counter(y))"
   ]
  },
  {
   "cell_type": "code",
   "execution_count": null,
   "metadata": {},
   "outputs": [],
   "source": [
    "# Write some code to compare the two cluster solutions from using Euclidean distance and cosine similarity \n"
   ]
  },
  {
   "cell_type": "markdown",
   "metadata": {},
   "source": [
    "## 2.5 Further tasks\n",
    "Still not enough? Ok, that is great! Here are a few ideas for some more tasks associated with kMeans and the scope of this exercise.\n",
    "- Write a custom function calculating the city-block or Manhatten metric\n",
    "- Improve the from scratch implementation of kMeans such that it supports the caller to specify the desired distance function as an argument\n",
    "- The above changes should enable you to flexibly run kMeans with Euclidean, cosine, and city-block distance. Try that out using your synthetic data\n",
    "- Use the `sklearn` function `make_classification()` to generate a more challenging data and apply kMeans to it. You can use your customer implementation of kMeans or the one available in `sklearn`\n",
    "- Run a web-search for the **IRIS data set**. It is a very well known data set. Quickly familiarize yourself with the data. Afterwards, load it using the function `sklearn.datasets.load_iris()`. Check whether kMeans is able to identify the three types of iris flowers. "
   ]
  },
  {
   "cell_type": "markdown",
   "metadata": {},
   "source": [
    "# Done... puh, that was a lot of work. And you did it! Congratulations!!! "
   ]
  }
 ],
 "metadata": {
  "kernelspec": {
   "display_name": "Python 3",
   "language": "python",
   "name": "python3"
  },
  "language_info": {
   "codemirror_mode": {
    "name": "ipython",
    "version": 3
   },
   "file_extension": ".py",
   "mimetype": "text/x-python",
   "name": "python",
   "nbconvert_exporter": "python",
   "pygments_lexer": "ipython3",
   "version": "3.8.3"
  }
 },
 "nbformat": 4,
 "nbformat_minor": 4
}
